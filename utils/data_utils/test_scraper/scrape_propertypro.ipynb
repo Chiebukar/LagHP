{
 "cells": [
  {
   "cell_type": "code",
   "execution_count": 34,
   "metadata": {},
   "outputs": [],
   "source": [
    "# import required libraries\n",
    "from selenium import webdriver\n",
    "from selenium.webdriver.common.desired_capabilities import DesiredCapabilities\n",
    "from selenium.webdriver.support import expected_conditions as EC\n",
    "from selenium.webdriver.common.by import By\n",
    "from selenium.webdriver.support.ui import WebDriverWait\n",
    "from selenium.webdriver.common.keys import Keys\n",
    "from bs4 import BeautifulSoup\n",
    "import pandas as pd"
   ]
  },
  {
   "cell_type": "code",
   "execution_count": 43,
   "metadata": {},
   "outputs": [],
   "source": [
    "url = \"https://www.propertypro.ng/property-for-rent/in/lagos\"   # define web url\n",
    "\n",
    "# initiate driver\n",
    "driver = webdriver.Chrome()\n",
    "wait = WebDriverWait(driver, 20)\n",
    "driver.get(url) # get html\n",
    "nav_xpath = '//*[@id=\"nav\"]'\n",
    "wait.until(EC.presence_of_element_located((By.XPATH, nav_xpath)))\n",
    "driver.execute_script(\"window.stop();\") # stop loading page when specified element is visible\n",
    "\n",
    "# # get web element of listigs\n",
    "# listing = driver.find_element(By.CSS_SELECTOR, 'div.single-room-text')\n",
    "# listing.get_attribute(\"outerHTML\")\n",
    "# title = listing.find_element(By.CSS_SELECTOR, 'h3.listings-property-title').text\n",
    "\n",
    "# get html in bs4\n",
    "soup = BeautifulSoup(driver.page_source, 'lxml')\n",
    "listing = soup.find('div', 'single-room-text')"
   ]
  },
  {
   "cell_type": "code",
   "execution_count": 44,
   "metadata": {},
   "outputs": [],
   "source": [
    "title = listing.a.text\n",
    "location = listing.h4.\n",
    "price_div = listing.find('div', 'n50').h3\n",
    "price_span = price_div.find_all('span')\n",
    "currency  = price_span[0]['content']\n",
    "amount = price_span[1].text\n",
    "date = listing.h5.text"
   ]
  },
  {
   "cell_type": "code",
   "execution_count": 74,
   "metadata": {},
   "outputs": [
    {
     "data": {
      "text/plain": [
       "<div class=\"furnished-btn\">\n",
       "<a href=\"/property-for-rent/is-serviced\">Serviced</a>\n",
       "</div>"
      ]
     },
     "execution_count": 74,
     "metadata": {},
     "output_type": "execute_result"
    }
   ],
   "source": [
    "listing.find('div', 'furnished-btn')"
   ]
  },
  {
   "cell_type": "code",
   "execution_count": null,
   "metadata": {},
   "outputs": [],
   "source": []
  },
  {
   "cell_type": "code",
   "execution_count": null,
   "metadata": {},
   "outputs": [],
   "source": []
  },
  {
   "cell_type": "code",
   "execution_count": null,
   "metadata": {},
   "outputs": [],
   "source": [
    "TITLE = []\n",
    "BEDS = []\n",
    "BATHS = []\n",
    "TOILETS = [] \n",
    "LOCATIONS = []\n",
    "SERVICED = []\n",
    "FURNNISHED = []\n",
    "NEWLY_BUILT = []\n",
    "DATE = []"
   ]
  }
 ],
 "metadata": {
  "kernelspec": {
   "display_name": "base",
   "language": "python",
   "name": "python3"
  },
  "language_info": {
   "codemirror_mode": {
    "name": "ipython",
    "version": 3
   },
   "file_extension": ".py",
   "mimetype": "text/x-python",
   "name": "python",
   "nbconvert_exporter": "python",
   "pygments_lexer": "ipython3",
   "version": "3.11.5"
  }
 },
 "nbformat": 4,
 "nbformat_minor": 2
}
