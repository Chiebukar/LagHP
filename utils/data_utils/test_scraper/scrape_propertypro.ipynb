{
 "cells": [
  {
   "cell_type": "code",
   "execution_count": 125,
   "metadata": {},
   "outputs": [],
   "source": [
    "# import required libraries\n",
    "from selenium import webdriver\n",
    "from selenium.webdriver.common.desired_capabilities import DesiredCapabilities\n",
    "from selenium.webdriver.support import expected_conditions as EC\n",
    "from selenium.webdriver.common.by import By\n",
    "from selenium.webdriver.support.ui import WebDriverWait\n",
    "from selenium.webdriver.common.keys import Keys\n",
    "from bs4 import BeautifulSoup\n",
    "import pandas as pd"
   ]
  },
  {
   "cell_type": "code",
   "execution_count": 163,
   "metadata": {},
   "outputs": [],
   "source": [
    "url = \"https://www.propertypro.ng/property-for-rent/in/lagos\"   # define web url\n",
    "\n",
    "# initiate driver\n",
    "driver = webdriver.Chrome()\n",
    "wait = WebDriverWait(driver, 20)\n",
    "driver.get(url) # get html\n",
    "nav_xpath = '//*[@id=\"nav\"]'\n",
    "wait.until(EC.presence_of_element_located((By.XPATH, nav_xpath)))\n",
    "driver.execute_script(\"window.stop();\") # stop loading page when specified element is visible\n",
    "\n",
    "# # get web element of listigs\n",
    "# listing = driver.find_element(By.CSS_SELECTOR, 'div.single-room-text')\n",
    "# listing.get_attribute(\"outerHTML\")\n",
    "# title = listing.find_element(By.CSS_SELECTOR, 'h3.listings-property-title').text\n",
    "\n",
    "# get html in bs4\n",
    "soup = BeautifulSoup(driver.page_source, 'lxml')"
   ]
  },
  {
   "cell_type": "code",
   "execution_count": 137,
   "metadata": {},
   "outputs": [],
   "source": [
    "# listing = soup.find_all('div', 'single-room-text')[26]\n",
    "# title = listing.a.text\n",
    "# location = listing.text.split('\\n')[2]\n",
    "# price_div = listing.find('div', 'n50').h3\n",
    "# price_span = price_div.find_all('span')\n",
    "# currency  = price_span[0]['content']\n",
    "# amount = price_span[1].text\n",
    "# date = listing.h5.text\n",
    "# condition = listing.find('div', 'furnished-btn').text\n",
    "# char = listing.find('div', 'fur-areea').find_all('span')\n",
    "# beds = char[0].text\n",
    "# baths = char[1].text\n",
    "# toilet = char[2].text"
   ]
  },
  {
   "cell_type": "code",
   "execution_count": 165,
   "metadata": {},
   "outputs": [
    {
     "data": {
      "text/plain": [
       "True"
      ]
     },
     "execution_count": 165,
     "metadata": {},
     "output_type": "execute_result"
    }
   ],
   "source": [
    "TITLE = []\n",
    "BEDS = []\n",
    "BATHS = []\n",
    "TOILETS = [] \n",
    "LOCATIONS = []\n",
    "CONDITION = []\n",
    "DATE = []\n",
    "\n",
    "cards = soup.find_all('div', 'single-room-text')\n",
    "\n",
    "for card in cards:\n",
    "    title = listing.a.text\n",
    "    location = listing.text.split('\\n')[2]\n",
    "    price_div = listing.find('div', 'n50').h3\n",
    "    price_span = price_div.find_all('span')\n",
    "    currency  = price_span[0]['content']\n",
    "    amount = price_span[1].text\n",
    "    date = listing.h5.text\n",
    "    condition = listing.find('div', 'furnished-btn').text\n",
    "    char = listing.find('div', 'fur-areea').find_all('span')\n",
    "    beds = char[0].text\n",
    "    baths = char[1].text\n",
    "    toilet = char[2].text\n",
    "\n",
    "    TITLE.append(title)\n",
    "    BEDS.append(beds)\n",
    "    BATHS.append(baths)\n",
    "    TOILETS.append(toilet)\n",
    "    LOCATIONS.append(location)\n",
    "    CONDITION.append(condition)\n",
    "    DATE.append(date)\n",
    "    \n",
    "\n",
    "\n",
    "len(TITLE)==len(BEDS)==len(BATHS)==len(TOILETS)==len(LOCATIONS)==len(CONDITION)==len(DATE)"
   ]
  },
  {
   "cell_type": "code",
   "execution_count": 166,
   "metadata": {},
   "outputs": [
    {
     "data": {
      "text/html": [
       "<div>\n",
       "<style scoped>\n",
       "    .dataframe tbody tr th:only-of-type {\n",
       "        vertical-align: middle;\n",
       "    }\n",
       "\n",
       "    .dataframe tbody tr th {\n",
       "        vertical-align: top;\n",
       "    }\n",
       "\n",
       "    .dataframe thead th {\n",
       "        text-align: right;\n",
       "    }\n",
       "</style>\n",
       "<table border=\"1\" class=\"dataframe\">\n",
       "  <thead>\n",
       "    <tr style=\"text-align: right;\">\n",
       "      <th></th>\n",
       "      <th>Title</th>\n",
       "      <th>Beds</th>\n",
       "      <th>Baths</th>\n",
       "      <th>Toilet</th>\n",
       "      <th>Locations</th>\n",
       "      <th>Conditions</th>\n",
       "      <th>Date</th>\n",
       "    </tr>\n",
       "  </thead>\n",
       "  <tbody>\n",
       "    <tr>\n",
       "      <th>0</th>\n",
       "      <td>3 BEDROOM HOUSE FOR RENT</td>\n",
       "      <td>3 beds</td>\n",
       "      <td>4 baths</td>\n",
       "      <td>4 Toilets</td>\n",
       "      <td>Osapa London Lekki Lagos</td>\n",
       "      <td>\\nServiced\\nNewly Built\\n</td>\n",
       "      <td>Added 09 Nov 2023</td>\n",
       "    </tr>\n",
       "    <tr>\n",
       "      <th>1</th>\n",
       "      <td>3 BEDROOM HOUSE FOR RENT</td>\n",
       "      <td>3 beds</td>\n",
       "      <td>4 baths</td>\n",
       "      <td>4 Toilets</td>\n",
       "      <td>Osapa London Lekki Lagos</td>\n",
       "      <td>\\nServiced\\nNewly Built\\n</td>\n",
       "      <td>Added 09 Nov 2023</td>\n",
       "    </tr>\n",
       "    <tr>\n",
       "      <th>2</th>\n",
       "      <td>3 BEDROOM HOUSE FOR RENT</td>\n",
       "      <td>3 beds</td>\n",
       "      <td>4 baths</td>\n",
       "      <td>4 Toilets</td>\n",
       "      <td>Osapa London Lekki Lagos</td>\n",
       "      <td>\\nServiced\\nNewly Built\\n</td>\n",
       "      <td>Added 09 Nov 2023</td>\n",
       "    </tr>\n",
       "    <tr>\n",
       "      <th>3</th>\n",
       "      <td>3 BEDROOM HOUSE FOR RENT</td>\n",
       "      <td>3 beds</td>\n",
       "      <td>4 baths</td>\n",
       "      <td>4 Toilets</td>\n",
       "      <td>Osapa London Lekki Lagos</td>\n",
       "      <td>\\nServiced\\nNewly Built\\n</td>\n",
       "      <td>Added 09 Nov 2023</td>\n",
       "    </tr>\n",
       "    <tr>\n",
       "      <th>4</th>\n",
       "      <td>3 BEDROOM HOUSE FOR RENT</td>\n",
       "      <td>3 beds</td>\n",
       "      <td>4 baths</td>\n",
       "      <td>4 Toilets</td>\n",
       "      <td>Osapa London Lekki Lagos</td>\n",
       "      <td>\\nServiced\\nNewly Built\\n</td>\n",
       "      <td>Added 09 Nov 2023</td>\n",
       "    </tr>\n",
       "  </tbody>\n",
       "</table>\n",
       "</div>"
      ],
      "text/plain": [
       "                        Title    Beds    Baths     Toilet  \\\n",
       "0   3 BEDROOM HOUSE FOR RENT   3 beds  4 baths  4 Toilets   \n",
       "1   3 BEDROOM HOUSE FOR RENT   3 beds  4 baths  4 Toilets   \n",
       "2   3 BEDROOM HOUSE FOR RENT   3 beds  4 baths  4 Toilets   \n",
       "3   3 BEDROOM HOUSE FOR RENT   3 beds  4 baths  4 Toilets   \n",
       "4   3 BEDROOM HOUSE FOR RENT   3 beds  4 baths  4 Toilets   \n",
       "\n",
       "                  Locations                 Conditions                  Date  \n",
       "0  Osapa London Lekki Lagos  \\nServiced\\nNewly Built\\n    Added 09 Nov 2023   \n",
       "1  Osapa London Lekki Lagos  \\nServiced\\nNewly Built\\n    Added 09 Nov 2023   \n",
       "2  Osapa London Lekki Lagos  \\nServiced\\nNewly Built\\n    Added 09 Nov 2023   \n",
       "3  Osapa London Lekki Lagos  \\nServiced\\nNewly Built\\n    Added 09 Nov 2023   \n",
       "4  Osapa London Lekki Lagos  \\nServiced\\nNewly Built\\n    Added 09 Nov 2023   "
      ]
     },
     "execution_count": 166,
     "metadata": {},
     "output_type": "execute_result"
    }
   ],
   "source": [
    "data = pd.DataFrame({'Title': TITLE, 'Beds': BEDS,'Baths': BATHS, 'Toilet':TOILETS, 'Locations': LOCATIONS, 'Conditions':CONDITION, 'Date':DATE})\n",
    "data.head()"
   ]
  },
  {
   "cell_type": "code",
   "execution_count": 173,
   "metadata": {},
   "outputs": [
    {
     "data": {
      "text/plain": [
       "52"
      ]
     },
     "execution_count": 173,
     "metadata": {},
     "output_type": "execute_result"
    }
   ],
   "source": [
    "len(cards)"
   ]
  },
  {
   "cell_type": "code",
   "execution_count": 179,
   "metadata": {},
   "outputs": [],
   "source": [
    "# listing = soup.find_all('div', 'single-room-text')[0]\n",
    "cards[2]\n",
    "title = listing.a.text\n",
    "location = listing.text.split('\\n')[2]\n",
    "price_div = listing.find('div', 'n50').h3\n",
    "price_span = price_div.find_all('span')\n",
    "currency  = price_span[0]['content']\n",
    "amount = price_span[1].text\n",
    "date = listing.h5.text\n",
    "condition = listing.find('div', 'furnished-btn').text\n",
    "char = listing.find('div', 'fur-areea').find_all('span')\n",
    "beds = char[0].text\n",
    "baths = char[1].text\n",
    "toilet = char[2].text"
   ]
  },
  {
   "cell_type": "code",
   "execution_count": 180,
   "metadata": {},
   "outputs": [
    {
     "name": "stdout",
     "output_type": "stream",
     "text": [
      " 4 BEDROOM FLAT / APARTMENT FOR RENT  Old Ikoyi Ikoyi Lagos 16,000,000/year   Updated 08 Nov 2023, Added 01 Aug 2023  \n",
      "Serviced\n",
      " 4 beds 4 baths 5 Toilets\n"
     ]
    }
   ],
   "source": [
    "print(title, location, amount, date, condition, beds, baths,toilet)"
   ]
  }
 ],
 "metadata": {
  "kernelspec": {
   "display_name": "base",
   "language": "python",
   "name": "python3"
  },
  "language_info": {
   "codemirror_mode": {
    "name": "ipython",
    "version": 3
   },
   "file_extension": ".py",
   "mimetype": "text/x-python",
   "name": "python",
   "nbconvert_exporter": "python",
   "pygments_lexer": "ipython3",
   "version": "3.11.5"
  }
 },
 "nbformat": 4,
 "nbformat_minor": 2
}
