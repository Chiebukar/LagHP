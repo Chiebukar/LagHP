{
 "cells": [
  {
   "cell_type": "code",
   "execution_count": 1,
   "metadata": {},
   "outputs": [],
   "source": [
    "import pandas as pd\n",
    "import numpy as np\n",
    "import matplotlib.pyplot as plt\n",
    "import matplotlib as mpl\n",
    "import seaborn as sns"
   ]
  },
  {
   "cell_type": "code",
   "execution_count": 2,
   "metadata": {},
   "outputs": [],
   "source": [
    "la1 = pd.read_csv('la1.csv')\n",
    "la2 = pd.read_csv('la2.csv')\n",
    "la3 = pd.read_csv('la3.csv')\n",
    "la4 = pd.read_csv('la4.csv')"
   ]
  },
  {
   "cell_type": "code",
   "execution_count": 3,
   "metadata": {},
   "outputs": [
    {
     "data": {
      "text/html": [
       "<div>\n",
       "<style scoped>\n",
       "    .dataframe tbody tr th:only-of-type {\n",
       "        vertical-align: middle;\n",
       "    }\n",
       "\n",
       "    .dataframe tbody tr th {\n",
       "        vertical-align: top;\n",
       "    }\n",
       "\n",
       "    .dataframe thead th {\n",
       "        text-align: right;\n",
       "    }\n",
       "</style>\n",
       "<table border=\"1\" class=\"dataframe\">\n",
       "  <thead>\n",
       "    <tr style=\"text-align: right;\">\n",
       "      <th></th>\n",
       "      <th>Title</th>\n",
       "      <th>Price</th>\n",
       "      <th>Location</th>\n",
       "      <th>Beds</th>\n",
       "      <th>Baths</th>\n",
       "      <th>Toilets</th>\n",
       "    </tr>\n",
       "  </thead>\n",
       "  <tbody>\n",
       "    <tr>\n",
       "      <th>0</th>\n",
       "      <td>Luxuriously And Well Built 4 Bedroom Detached ...</td>\n",
       "      <td>6000000</td>\n",
       "      <td>Lekki</td>\n",
       "      <td>4</td>\n",
       "      <td>4</td>\n",
       "      <td>5</td>\n",
       "    </tr>\n",
       "    <tr>\n",
       "      <th>1</th>\n",
       "      <td>Newly Built 24 Hours Servced 4 Bedrooms Duplex</td>\n",
       "      <td>3000000</td>\n",
       "      <td>Lekki</td>\n",
       "      <td>4</td>\n",
       "      <td>4</td>\n",
       "      <td>5</td>\n",
       "    </tr>\n",
       "    <tr>\n",
       "      <th>2</th>\n",
       "      <td>Furnished 5 Bedrooms Terrace With Swimming Pool</td>\n",
       "      <td>5000000</td>\n",
       "      <td>Lekki</td>\n",
       "      <td>5</td>\n",
       "      <td>6</td>\n",
       "      <td>5</td>\n",
       "    </tr>\n",
       "    <tr>\n",
       "      <th>3</th>\n",
       "      <td>Spacious 4 Bedroom Fully Detached Duplex With Bq</td>\n",
       "      <td>4000000</td>\n",
       "      <td>Lekki</td>\n",
       "      <td>4</td>\n",
       "      <td>5</td>\n",
       "      <td>4</td>\n",
       "    </tr>\n",
       "    <tr>\n",
       "      <th>4</th>\n",
       "      <td>Luxury 4 Bedroom Semi Detached Duplex With Bq</td>\n",
       "      <td>4000000</td>\n",
       "      <td>Lekki</td>\n",
       "      <td>4</td>\n",
       "      <td>4</td>\n",
       "      <td>5</td>\n",
       "    </tr>\n",
       "  </tbody>\n",
       "</table>\n",
       "</div>"
      ],
      "text/plain": [
       "                                               Title    Price Location  Beds  \\\n",
       "0  Luxuriously And Well Built 4 Bedroom Detached ...  6000000    Lekki     4   \n",
       "1     Newly Built 24 Hours Servced 4 Bedrooms Duplex  3000000    Lekki     4   \n",
       "2    Furnished 5 Bedrooms Terrace With Swimming Pool  5000000    Lekki     5   \n",
       "3   Spacious 4 Bedroom Fully Detached Duplex With Bq  4000000    Lekki     4   \n",
       "4      Luxury 4 Bedroom Semi Detached Duplex With Bq  4000000    Lekki     4   \n",
       "\n",
       "   Baths  Toilets  \n",
       "0      4        5  \n",
       "1      4        5  \n",
       "2      6        5  \n",
       "3      5        4  \n",
       "4      4        5  "
      ]
     },
     "execution_count": 3,
     "metadata": {},
     "output_type": "execute_result"
    }
   ],
   "source": [
    "lag = pd.concat([la1, la2, la2, la3, la4], ignore_index= True)\n",
    "lag.head()"
   ]
  },
  {
   "cell_type": "code",
   "execution_count": 4,
   "metadata": {},
   "outputs": [
    {
     "data": {
      "text/plain": [
       "[]"
      ]
     },
     "execution_count": 4,
     "metadata": {},
     "output_type": "execute_result"
    }
   ],
   "source": [
    "[]"
   ]
  },
  {
   "cell_type": "code",
   "execution_count": 5,
   "metadata": {},
   "outputs": [
    {
     "data": {
      "text/plain": [
       "Title       0\n",
       "Price       0\n",
       "Location    0\n",
       "Beds        0\n",
       "Baths       0\n",
       "Toilets     0\n",
       "dtype: int64"
      ]
     },
     "execution_count": 5,
     "metadata": {},
     "output_type": "execute_result"
    }
   ],
   "source": [
    "lag.isna().sum()"
   ]
  },
  {
   "cell_type": "code",
   "execution_count": 6,
   "metadata": {
    "scrolled": false
   },
   "outputs": [
    {
     "data": {
      "text/plain": [
       "Title       object\n",
       "Price        int64\n",
       "Location    object\n",
       "Beds         int64\n",
       "Baths        int64\n",
       "Toilets      int64\n",
       "dtype: object"
      ]
     },
     "execution_count": 6,
     "metadata": {},
     "output_type": "execute_result"
    }
   ],
   "source": [
    "lag.dtypes"
   ]
  },
  {
   "cell_type": "code",
   "execution_count": 7,
   "metadata": {},
   "outputs": [
    {
     "data": {
      "text/plain": [
       "array([' Lekki', ' Ibeju Lekki', ' Magodo', ' Ikoyi', ' Gbagada',\n",
       "       ' Agege', 'Lekki', 'Ajah', 'Ibeju Lekki', 'Ikorodu', 'Ikoyi',\n",
       "       'Surulere', 'Victoria Island', 'Ikeja', 'Wuye', 'Camp', 'Isolo',\n",
       "       'Sangotedo', 'Maryland', 'Ojodu', 'Ogba', 'Igando', 'Gbagada',\n",
       "       'Ikosi', 'Yaba', 'Ejigbo', 'Shomolu', 'Odofin', 'Ogudu', 'Ketu',\n",
       "       'Ipaja', 'Alimosho', 'Okota', 'Ojota', 'Ilupeju', 'Agege', 'Idimu'],\n",
       "      dtype=object)"
      ]
     },
     "execution_count": 7,
     "metadata": {},
     "output_type": "execute_result"
    }
   ],
   "source": [
    "lag.Location.unique()"
   ]
  },
  {
   "cell_type": "code",
   "execution_count": 8,
   "metadata": {},
   "outputs": [],
   "source": [
    "lag['Location'] = lag['Location'].apply(lambda x: x.strip())"
   ]
  },
  {
   "cell_type": "code",
   "execution_count": 9,
   "metadata": {},
   "outputs": [
    {
     "data": {
      "text/plain": [
       "array(['Lekki', 'Ibeju Lekki', 'Magodo', 'Ikoyi', 'Gbagada', 'Agege',\n",
       "       'Ajah', 'Ikorodu', 'Surulere', 'Victoria Island', 'Ikeja', 'Wuye',\n",
       "       'Camp', 'Isolo', 'Sangotedo', 'Maryland', 'Ojodu', 'Ogba',\n",
       "       'Igando', 'Ikosi', 'Yaba', 'Ejigbo', 'Shomolu', 'Odofin', 'Ogudu',\n",
       "       'Ketu', 'Ipaja', 'Alimosho', 'Okota', 'Ojota', 'Ilupeju', 'Idimu'],\n",
       "      dtype=object)"
      ]
     },
     "execution_count": 9,
     "metadata": {},
     "output_type": "execute_result"
    }
   ],
   "source": [
    "lag['Location'].unique()"
   ]
  },
  {
   "cell_type": "code",
   "execution_count": 10,
   "metadata": {},
   "outputs": [
    {
     "data": {
      "text/plain": [
       "32"
      ]
     },
     "execution_count": 10,
     "metadata": {},
     "output_type": "execute_result"
    }
   ],
   "source": [
    "len(lag['Location'].unique())"
   ]
  },
  {
   "cell_type": "code",
   "execution_count": 11,
   "metadata": {},
   "outputs": [
    {
     "data": {
      "text/plain": [
       "str"
      ]
     },
     "execution_count": 11,
     "metadata": {},
     "output_type": "execute_result"
    }
   ],
   "source": [
    "type(lag.loc[0, 'Location'])"
   ]
  },
  {
   "cell_type": "code",
   "execution_count": 12,
   "metadata": {},
   "outputs": [],
   "source": [
    "lag['Price_per_room'] = lag['Price'] / (lag['Beds'] + lag['Baths'] + lag['Toilets'])"
   ]
  },
  {
   "cell_type": "code",
   "execution_count": 13,
   "metadata": {},
   "outputs": [],
   "source": [
    "lag['Total_rooms'] = (lag['Beds'] + lag['Baths'] + lag['Toilets'])"
   ]
  },
  {
   "cell_type": "code",
   "execution_count": 14,
   "metadata": {},
   "outputs": [
    {
     "data": {
      "text/html": [
       "<div>\n",
       "<style scoped>\n",
       "    .dataframe tbody tr th:only-of-type {\n",
       "        vertical-align: middle;\n",
       "    }\n",
       "\n",
       "    .dataframe tbody tr th {\n",
       "        vertical-align: top;\n",
       "    }\n",
       "\n",
       "    .dataframe thead th {\n",
       "        text-align: right;\n",
       "    }\n",
       "</style>\n",
       "<table border=\"1\" class=\"dataframe\">\n",
       "  <thead>\n",
       "    <tr style=\"text-align: right;\">\n",
       "      <th></th>\n",
       "      <th>Title</th>\n",
       "      <th>Price</th>\n",
       "      <th>Location</th>\n",
       "      <th>Beds</th>\n",
       "      <th>Baths</th>\n",
       "      <th>Toilets</th>\n",
       "      <th>Price_per_room</th>\n",
       "      <th>Total_rooms</th>\n",
       "    </tr>\n",
       "  </thead>\n",
       "  <tbody>\n",
       "    <tr>\n",
       "      <th>0</th>\n",
       "      <td>Luxuriously And Well Built 4 Bedroom Detached ...</td>\n",
       "      <td>6000000</td>\n",
       "      <td>Lekki</td>\n",
       "      <td>4</td>\n",
       "      <td>4</td>\n",
       "      <td>5</td>\n",
       "      <td>461538.461538</td>\n",
       "      <td>13</td>\n",
       "    </tr>\n",
       "    <tr>\n",
       "      <th>1</th>\n",
       "      <td>Newly Built 24 Hours Servced 4 Bedrooms Duplex</td>\n",
       "      <td>3000000</td>\n",
       "      <td>Lekki</td>\n",
       "      <td>4</td>\n",
       "      <td>4</td>\n",
       "      <td>5</td>\n",
       "      <td>230769.230769</td>\n",
       "      <td>13</td>\n",
       "    </tr>\n",
       "    <tr>\n",
       "      <th>2</th>\n",
       "      <td>Furnished 5 Bedrooms Terrace With Swimming Pool</td>\n",
       "      <td>5000000</td>\n",
       "      <td>Lekki</td>\n",
       "      <td>5</td>\n",
       "      <td>6</td>\n",
       "      <td>5</td>\n",
       "      <td>312500.000000</td>\n",
       "      <td>16</td>\n",
       "    </tr>\n",
       "    <tr>\n",
       "      <th>3</th>\n",
       "      <td>Spacious 4 Bedroom Fully Detached Duplex With Bq</td>\n",
       "      <td>4000000</td>\n",
       "      <td>Lekki</td>\n",
       "      <td>4</td>\n",
       "      <td>5</td>\n",
       "      <td>4</td>\n",
       "      <td>307692.307692</td>\n",
       "      <td>13</td>\n",
       "    </tr>\n",
       "    <tr>\n",
       "      <th>4</th>\n",
       "      <td>Luxury 4 Bedroom Semi Detached Duplex With Bq</td>\n",
       "      <td>4000000</td>\n",
       "      <td>Lekki</td>\n",
       "      <td>4</td>\n",
       "      <td>4</td>\n",
       "      <td>5</td>\n",
       "      <td>307692.307692</td>\n",
       "      <td>13</td>\n",
       "    </tr>\n",
       "    <tr>\n",
       "      <th>5</th>\n",
       "      <td>17hours Serviced 4 Bedrooms Duplex With Bq</td>\n",
       "      <td>3000000</td>\n",
       "      <td>Lekki</td>\n",
       "      <td>4</td>\n",
       "      <td>4</td>\n",
       "      <td>5</td>\n",
       "      <td>230769.230769</td>\n",
       "      <td>13</td>\n",
       "    </tr>\n",
       "    <tr>\n",
       "      <th>6</th>\n",
       "      <td>Brand New 3bedroom Duplex Self Compound Plus 2...</td>\n",
       "      <td>2000000</td>\n",
       "      <td>Ibeju Lekki</td>\n",
       "      <td>3</td>\n",
       "      <td>4</td>\n",
       "      <td>4</td>\n",
       "      <td>181818.181818</td>\n",
       "      <td>11</td>\n",
       "    </tr>\n",
       "    <tr>\n",
       "      <th>7</th>\n",
       "      <td>Three Bedrooms Terrace</td>\n",
       "      <td>2000000</td>\n",
       "      <td>Lekki</td>\n",
       "      <td>3</td>\n",
       "      <td>4</td>\n",
       "      <td>5</td>\n",
       "      <td>166666.666667</td>\n",
       "      <td>12</td>\n",
       "    </tr>\n",
       "    <tr>\n",
       "      <th>8</th>\n",
       "      <td>4 Bedroom Terrace Available</td>\n",
       "      <td>3000000</td>\n",
       "      <td>Lekki</td>\n",
       "      <td>4</td>\n",
       "      <td>4</td>\n",
       "      <td>5</td>\n",
       "      <td>230769.230769</td>\n",
       "      <td>13</td>\n",
       "    </tr>\n",
       "    <tr>\n",
       "      <th>9</th>\n",
       "      <td>3 Bedrooms Terraced Duplex With Lovely Living ...</td>\n",
       "      <td>2200000</td>\n",
       "      <td>Magodo</td>\n",
       "      <td>3</td>\n",
       "      <td>3</td>\n",
       "      <td>4</td>\n",
       "      <td>220000.000000</td>\n",
       "      <td>10</td>\n",
       "    </tr>\n",
       "  </tbody>\n",
       "</table>\n",
       "</div>"
      ],
      "text/plain": [
       "                                               Title    Price     Location  \\\n",
       "0  Luxuriously And Well Built 4 Bedroom Detached ...  6000000        Lekki   \n",
       "1     Newly Built 24 Hours Servced 4 Bedrooms Duplex  3000000        Lekki   \n",
       "2    Furnished 5 Bedrooms Terrace With Swimming Pool  5000000        Lekki   \n",
       "3   Spacious 4 Bedroom Fully Detached Duplex With Bq  4000000        Lekki   \n",
       "4      Luxury 4 Bedroom Semi Detached Duplex With Bq  4000000        Lekki   \n",
       "5         17hours Serviced 4 Bedrooms Duplex With Bq  3000000        Lekki   \n",
       "6  Brand New 3bedroom Duplex Self Compound Plus 2...  2000000  Ibeju Lekki   \n",
       "7                             Three Bedrooms Terrace  2000000        Lekki   \n",
       "8                        4 Bedroom Terrace Available  3000000        Lekki   \n",
       "9  3 Bedrooms Terraced Duplex With Lovely Living ...  2200000       Magodo   \n",
       "\n",
       "   Beds  Baths  Toilets  Price_per_room  Total_rooms  \n",
       "0     4      4        5   461538.461538           13  \n",
       "1     4      4        5   230769.230769           13  \n",
       "2     5      6        5   312500.000000           16  \n",
       "3     4      5        4   307692.307692           13  \n",
       "4     4      4        5   307692.307692           13  \n",
       "5     4      4        5   230769.230769           13  \n",
       "6     3      4        4   181818.181818           11  \n",
       "7     3      4        5   166666.666667           12  \n",
       "8     4      4        5   230769.230769           13  \n",
       "9     3      3        4   220000.000000           10  "
      ]
     },
     "execution_count": 14,
     "metadata": {},
     "output_type": "execute_result"
    }
   ],
   "source": [
    "lag.head(10)"
   ]
  },
  {
   "cell_type": "code",
   "execution_count": 15,
   "metadata": {},
   "outputs": [
    {
     "data": {
      "text/plain": [
       "2665"
      ]
     },
     "execution_count": 15,
     "metadata": {},
     "output_type": "execute_result"
    }
   ],
   "source": [
    "len(lag)"
   ]
  },
  {
   "cell_type": "code",
   "execution_count": 16,
   "metadata": {},
   "outputs": [
    {
     "data": {
      "text/plain": [
       "count    2.665000e+03\n",
       "mean     9.840738e+05\n",
       "std      7.152967e+06\n",
       "min      1.666667e-01\n",
       "25%      1.545455e+05\n",
       "50%      3.846154e+05\n",
       "75%      1.272727e+06\n",
       "max      3.000000e+08\n",
       "Name: Price_per_room, dtype: float64"
      ]
     },
     "execution_count": 16,
     "metadata": {},
     "output_type": "execute_result"
    }
   ],
   "source": [
    "lag['Price_per_room'].describe()"
   ]
  },
  {
   "cell_type": "code",
   "execution_count": 17,
   "metadata": {
    "scrolled": false
   },
   "outputs": [
    {
     "data": {
      "text/plain": [
       "Location\n",
       "Lekki              714\n",
       "Ikoyi              489\n",
       "Ikorodu            455\n",
       "Ajah               265\n",
       "Ibeju Lekki        221\n",
       "Victoria Island    194\n",
       "Ikeja               68\n",
       "Yaba                58\n",
       "Surulere            42\n",
       "Isolo               22\n",
       "Maryland            19\n",
       "Shomolu             19\n",
       "Gbagada             18\n",
       "Ogudu               12\n",
       "Ojodu               12\n",
       "Odofin              10\n",
       "Ikosi                9\n",
       "Okota                7\n",
       "Ogba                 5\n",
       "Ejigbo               4\n",
       "Ipaja                4\n",
       "Ilupeju              4\n",
       "Agege                3\n",
       "Sangotedo            2\n",
       "Camp                 2\n",
       "Igando               1\n",
       "Idimu                1\n",
       "Wuye                 1\n",
       "Ketu                 1\n",
       "Alimosho             1\n",
       "Magodo               1\n",
       "Ojota                1\n",
       "Name: Location, dtype: int64"
      ]
     },
     "execution_count": 17,
     "metadata": {},
     "output_type": "execute_result"
    }
   ],
   "source": [
    "lag.groupby('Location')['Location'].count().sort_values(ascending = False)"
   ]
  },
  {
   "cell_type": "code",
   "execution_count": 18,
   "metadata": {},
   "outputs": [],
   "source": [
    "location_stats = lag.groupby('Location')['Location'].count().sort_values(ascending = False)"
   ]
  },
  {
   "cell_type": "code",
   "execution_count": 19,
   "metadata": {},
   "outputs": [],
   "source": [
    "location_stat = location_stats[location_stats < 7]"
   ]
  },
  {
   "cell_type": "code",
   "execution_count": 20,
   "metadata": {
    "scrolled": true
   },
   "outputs": [
    {
     "data": {
      "text/plain": [
       "Location\n",
       "Ogba         5\n",
       "Ejigbo       4\n",
       "Ipaja        4\n",
       "Ilupeju      4\n",
       "Agege        3\n",
       "Sangotedo    2\n",
       "Camp         2\n",
       "Igando       1\n",
       "Idimu        1\n",
       "Wuye         1\n",
       "Ketu         1\n",
       "Alimosho     1\n",
       "Magodo       1\n",
       "Ojota        1\n",
       "Name: Location, dtype: int64"
      ]
     },
     "execution_count": 20,
     "metadata": {},
     "output_type": "execute_result"
    }
   ],
   "source": [
    "location_stat"
   ]
  },
  {
   "cell_type": "code",
   "execution_count": 21,
   "metadata": {},
   "outputs": [],
   "source": [
    "lag.Location = lag.Location.apply(lambda x: 'other' if x in location_stat else x)"
   ]
  },
  {
   "cell_type": "code",
   "execution_count": 22,
   "metadata": {},
   "outputs": [
    {
     "data": {
      "text/html": [
       "<div>\n",
       "<style scoped>\n",
       "    .dataframe tbody tr th:only-of-type {\n",
       "        vertical-align: middle;\n",
       "    }\n",
       "\n",
       "    .dataframe tbody tr th {\n",
       "        vertical-align: top;\n",
       "    }\n",
       "\n",
       "    .dataframe thead th {\n",
       "        text-align: right;\n",
       "    }\n",
       "</style>\n",
       "<table border=\"1\" class=\"dataframe\">\n",
       "  <thead>\n",
       "    <tr style=\"text-align: right;\">\n",
       "      <th></th>\n",
       "      <th>Title</th>\n",
       "      <th>Price</th>\n",
       "      <th>Location</th>\n",
       "      <th>Beds</th>\n",
       "      <th>Baths</th>\n",
       "      <th>Toilets</th>\n",
       "      <th>Price_per_room</th>\n",
       "      <th>Total_rooms</th>\n",
       "    </tr>\n",
       "  </thead>\n",
       "  <tbody>\n",
       "    <tr>\n",
       "      <th>9</th>\n",
       "      <td>3 Bedrooms Terraced Duplex With Lovely Living ...</td>\n",
       "      <td>2200000</td>\n",
       "      <td>other</td>\n",
       "      <td>3</td>\n",
       "      <td>3</td>\n",
       "      <td>4</td>\n",
       "      <td>2.200000e+05</td>\n",
       "      <td>10</td>\n",
       "    </tr>\n",
       "    <tr>\n",
       "      <th>18</th>\n",
       "      <td>Newly Built Luxurious 2 Bedroom Flat</td>\n",
       "      <td>400000</td>\n",
       "      <td>other</td>\n",
       "      <td>2</td>\n",
       "      <td>2</td>\n",
       "      <td>3</td>\n",
       "      <td>5.714286e+04</td>\n",
       "      <td>7</td>\n",
       "    </tr>\n",
       "    <tr>\n",
       "      <th>1333</th>\n",
       "      <td>Beautiful 4 Bedroom Terrace Duplex+ BQ For Sal...</td>\n",
       "      <td>100000000</td>\n",
       "      <td>other</td>\n",
       "      <td>4</td>\n",
       "      <td>5</td>\n",
       "      <td>6</td>\n",
       "      <td>6.666667e+06</td>\n",
       "      <td>15</td>\n",
       "    </tr>\n",
       "    <tr>\n",
       "      <th>1370</th>\n",
       "      <td>4 Bed Semi-Detached duplex</td>\n",
       "      <td>100000</td>\n",
       "      <td>other</td>\n",
       "      <td>4</td>\n",
       "      <td>4</td>\n",
       "      <td>5</td>\n",
       "      <td>7.692308e+03</td>\n",
       "      <td>13</td>\n",
       "    </tr>\n",
       "    <tr>\n",
       "      <th>1385</th>\n",
       "      <td>Fully Furnished Luxury 4 Bedroom Semi- Detache...</td>\n",
       "      <td>100000</td>\n",
       "      <td>other</td>\n",
       "      <td>4</td>\n",
       "      <td>4</td>\n",
       "      <td>5</td>\n",
       "      <td>7.692308e+03</td>\n",
       "      <td>13</td>\n",
       "    </tr>\n",
       "    <tr>\n",
       "      <th>1473</th>\n",
       "      <td>Newly Built 4 Bedroom Semi Detached Terrace To...</td>\n",
       "      <td>40000000</td>\n",
       "      <td>other</td>\n",
       "      <td>4</td>\n",
       "      <td>4</td>\n",
       "      <td>5</td>\n",
       "      <td>3.076923e+06</td>\n",
       "      <td>13</td>\n",
       "    </tr>\n",
       "    <tr>\n",
       "      <th>1519</th>\n",
       "      <td>NICELY RENOVATED 3BEDROOM FLAT</td>\n",
       "      <td>1500000</td>\n",
       "      <td>other</td>\n",
       "      <td>2</td>\n",
       "      <td>2</td>\n",
       "      <td>3</td>\n",
       "      <td>2.142857e+05</td>\n",
       "      <td>7</td>\n",
       "    </tr>\n",
       "    <tr>\n",
       "      <th>1522</th>\n",
       "      <td>NEWLY BUILT 3BEDROOM FLAT</td>\n",
       "      <td>700000</td>\n",
       "      <td>other</td>\n",
       "      <td>3</td>\n",
       "      <td>3</td>\n",
       "      <td>4</td>\n",
       "      <td>7.000000e+04</td>\n",
       "      <td>10</td>\n",
       "    </tr>\n",
       "    <tr>\n",
       "      <th>1535</th>\n",
       "      <td>Lovely 2bed Rooms Flat At Ejigbo.Lagos Mainland</td>\n",
       "      <td>300000</td>\n",
       "      <td>other</td>\n",
       "      <td>2</td>\n",
       "      <td>2</td>\n",
       "      <td>2</td>\n",
       "      <td>5.000000e+04</td>\n",
       "      <td>6</td>\n",
       "    </tr>\n",
       "    <tr>\n",
       "      <th>1981</th>\n",
       "      <td>Executive 3bed Rooms Duplex At Ejigbo.Lagos Ma...</td>\n",
       "      <td>450000</td>\n",
       "      <td>other</td>\n",
       "      <td>3</td>\n",
       "      <td>3</td>\n",
       "      <td>3</td>\n",
       "      <td>5.000000e+04</td>\n",
       "      <td>9</td>\n",
       "    </tr>\n",
       "    <tr>\n",
       "      <th>2031</th>\n",
       "      <td>Luxury Executive Mini Flat with 2 toilets and ...</td>\n",
       "      <td>250000</td>\n",
       "      <td>other</td>\n",
       "      <td>1</td>\n",
       "      <td>1</td>\n",
       "      <td>2</td>\n",
       "      <td>6.250000e+04</td>\n",
       "      <td>4</td>\n",
       "    </tr>\n",
       "    <tr>\n",
       "      <th>2052</th>\n",
       "      <td>Executive 2bed Rooms Flat at Idimu Ejigbo Esta...</td>\n",
       "      <td>300000</td>\n",
       "      <td>other</td>\n",
       "      <td>2</td>\n",
       "      <td>2</td>\n",
       "      <td>2</td>\n",
       "      <td>5.000000e+04</td>\n",
       "      <td>6</td>\n",
       "    </tr>\n",
       "    <tr>\n",
       "      <th>2190</th>\n",
       "      <td>A First Floor 3 Bedroom Flat At Off Estate Roa...</td>\n",
       "      <td>1200000</td>\n",
       "      <td>other</td>\n",
       "      <td>3</td>\n",
       "      <td>3</td>\n",
       "      <td>4</td>\n",
       "      <td>1.200000e+05</td>\n",
       "      <td>10</td>\n",
       "    </tr>\n",
       "    <tr>\n",
       "      <th>2252</th>\n",
       "      <td>Nice And Newly Renovated 3 Bedroom Apartment F...</td>\n",
       "      <td>650000</td>\n",
       "      <td>other</td>\n",
       "      <td>3</td>\n",
       "      <td>3</td>\n",
       "      <td>3</td>\n",
       "      <td>7.222222e+04</td>\n",
       "      <td>9</td>\n",
       "    </tr>\n",
       "    <tr>\n",
       "      <th>2265</th>\n",
       "      <td>Newly Built 2 Bedroom Apartment For Rent At Ok...</td>\n",
       "      <td>450000</td>\n",
       "      <td>other</td>\n",
       "      <td>2</td>\n",
       "      <td>2</td>\n",
       "      <td>2</td>\n",
       "      <td>7.500000e+04</td>\n",
       "      <td>6</td>\n",
       "    </tr>\n",
       "    <tr>\n",
       "      <th>2304</th>\n",
       "      <td>Decent 2 Bedroom Apartment For Rent At Haruna....</td>\n",
       "      <td>750000</td>\n",
       "      <td>other</td>\n",
       "      <td>2</td>\n",
       "      <td>2</td>\n",
       "      <td>3</td>\n",
       "      <td>1.071429e+05</td>\n",
       "      <td>7</td>\n",
       "    </tr>\n",
       "    <tr>\n",
       "      <th>2337</th>\n",
       "      <td>Executive 3 Bedroom Flat</td>\n",
       "      <td>450000</td>\n",
       "      <td>other</td>\n",
       "      <td>3</td>\n",
       "      <td>3</td>\n",
       "      <td>3</td>\n",
       "      <td>5.000000e+04</td>\n",
       "      <td>9</td>\n",
       "    </tr>\n",
       "    <tr>\n",
       "      <th>2339</th>\n",
       "      <td>Very Clean Self Contain For Rent At Ogba</td>\n",
       "      <td>250000</td>\n",
       "      <td>other</td>\n",
       "      <td>1</td>\n",
       "      <td>1</td>\n",
       "      <td>1</td>\n",
       "      <td>8.333333e+04</td>\n",
       "      <td>3</td>\n",
       "    </tr>\n",
       "    <tr>\n",
       "      <th>2344</th>\n",
       "      <td>Newly Built 2 Bedroom Flats With Excellent Fin...</td>\n",
       "      <td>700000</td>\n",
       "      <td>other</td>\n",
       "      <td>2</td>\n",
       "      <td>2</td>\n",
       "      <td>3</td>\n",
       "      <td>1.000000e+05</td>\n",
       "      <td>7</td>\n",
       "    </tr>\n",
       "    <tr>\n",
       "      <th>2366</th>\n",
       "      <td>Newly Renovated 2 Bedroom Apartment For Rent A...</td>\n",
       "      <td>1300000</td>\n",
       "      <td>other</td>\n",
       "      <td>2</td>\n",
       "      <td>2</td>\n",
       "      <td>2</td>\n",
       "      <td>2.166667e+05</td>\n",
       "      <td>6</td>\n",
       "    </tr>\n",
       "    <tr>\n",
       "      <th>2388</th>\n",
       "      <td>Newly Renovated House Of 4 Units Of 3 Bedroom ...</td>\n",
       "      <td>10800000</td>\n",
       "      <td>other</td>\n",
       "      <td>10</td>\n",
       "      <td>10</td>\n",
       "      <td>10</td>\n",
       "      <td>3.600000e+05</td>\n",
       "      <td>30</td>\n",
       "    </tr>\n",
       "    <tr>\n",
       "      <th>2481</th>\n",
       "      <td>4 Bedroom Terrace Duplex With Bq At Ilupeju Lagos</td>\n",
       "      <td>3000000</td>\n",
       "      <td>other</td>\n",
       "      <td>4</td>\n",
       "      <td>4</td>\n",
       "      <td>5</td>\n",
       "      <td>2.307692e+05</td>\n",
       "      <td>13</td>\n",
       "    </tr>\n",
       "    <tr>\n",
       "      <th>2518</th>\n",
       "      <td>Standard 3bedroom Flat With Visitors Toilet Al...</td>\n",
       "      <td>500000</td>\n",
       "      <td>other</td>\n",
       "      <td>3</td>\n",
       "      <td>4</td>\n",
       "      <td>4</td>\n",
       "      <td>4.545455e+04</td>\n",
       "      <td>11</td>\n",
       "    </tr>\n",
       "    <tr>\n",
       "      <th>2554</th>\n",
       "      <td>An Executive And Exquisitely Finished Mini Flat</td>\n",
       "      <td>180000</td>\n",
       "      <td>other</td>\n",
       "      <td>1</td>\n",
       "      <td>1</td>\n",
       "      <td>1</td>\n",
       "      <td>6.000000e+04</td>\n",
       "      <td>3</td>\n",
       "    </tr>\n",
       "    <tr>\n",
       "      <th>2555</th>\n",
       "      <td>Tastefully finished 3 Bedroom with mini flat b...</td>\n",
       "      <td>1500000</td>\n",
       "      <td>other</td>\n",
       "      <td>3</td>\n",
       "      <td>4</td>\n",
       "      <td>4</td>\n",
       "      <td>1.363636e+05</td>\n",
       "      <td>11</td>\n",
       "    </tr>\n",
       "    <tr>\n",
       "      <th>2561</th>\n",
       "      <td>5bedroom Detached Duplex With BQ</td>\n",
       "      <td>2000000</td>\n",
       "      <td>other</td>\n",
       "      <td>5</td>\n",
       "      <td>5</td>\n",
       "      <td>6</td>\n",
       "      <td>1.250000e+05</td>\n",
       "      <td>16</td>\n",
       "    </tr>\n",
       "    <tr>\n",
       "      <th>2570</th>\n",
       "      <td>9 FLATS OF SPACIOUS 3 BEDROOM APARTMENT FOR LE...</td>\n",
       "      <td>5400000</td>\n",
       "      <td>other</td>\n",
       "      <td>3</td>\n",
       "      <td>3</td>\n",
       "      <td>3</td>\n",
       "      <td>6.000000e+05</td>\n",
       "      <td>9</td>\n",
       "    </tr>\n",
       "    <tr>\n",
       "      <th>2579</th>\n",
       "      <td>3 Bedroom Flat At Solomon Avenue Olowora</td>\n",
       "      <td>900000</td>\n",
       "      <td>other</td>\n",
       "      <td>3</td>\n",
       "      <td>3</td>\n",
       "      <td>3</td>\n",
       "      <td>1.000000e+05</td>\n",
       "      <td>9</td>\n",
       "    </tr>\n",
       "    <tr>\n",
       "      <th>2588</th>\n",
       "      <td>Newly Renovated 3bedrooms Flat At Ogba Oke Ira</td>\n",
       "      <td>900000</td>\n",
       "      <td>other</td>\n",
       "      <td>3</td>\n",
       "      <td>3</td>\n",
       "      <td>4</td>\n",
       "      <td>9.000000e+04</td>\n",
       "      <td>10</td>\n",
       "    </tr>\n",
       "    <tr>\n",
       "      <th>2639</th>\n",
       "      <td>New 4 Bedroom Terrace Duplex With Bq At Ilupej...</td>\n",
       "      <td>3600000</td>\n",
       "      <td>other</td>\n",
       "      <td>4</td>\n",
       "      <td>4</td>\n",
       "      <td>5</td>\n",
       "      <td>2.769231e+05</td>\n",
       "      <td>13</td>\n",
       "    </tr>\n",
       "    <tr>\n",
       "      <th>2650</th>\n",
       "      <td>Newly Renovated and Very Spacious 4 nos 3 Bedr...</td>\n",
       "      <td>10800000</td>\n",
       "      <td>other</td>\n",
       "      <td>3</td>\n",
       "      <td>3</td>\n",
       "      <td>4</td>\n",
       "      <td>1.080000e+06</td>\n",
       "      <td>10</td>\n",
       "    </tr>\n",
       "  </tbody>\n",
       "</table>\n",
       "</div>"
      ],
      "text/plain": [
       "                                                  Title      Price Location  \\\n",
       "9     3 Bedrooms Terraced Duplex With Lovely Living ...    2200000    other   \n",
       "18                 Newly Built Luxurious 2 Bedroom Flat     400000    other   \n",
       "1333  Beautiful 4 Bedroom Terrace Duplex+ BQ For Sal...  100000000    other   \n",
       "1370                         4 Bed Semi-Detached duplex     100000    other   \n",
       "1385  Fully Furnished Luxury 4 Bedroom Semi- Detache...     100000    other   \n",
       "1473  Newly Built 4 Bedroom Semi Detached Terrace To...   40000000    other   \n",
       "1519                    NICELY RENOVATED 3BEDROOM FLAT     1500000    other   \n",
       "1522                         NEWLY BUILT 3BEDROOM FLAT      700000    other   \n",
       "1535    Lovely 2bed Rooms Flat At Ejigbo.Lagos Mainland     300000    other   \n",
       "1981  Executive 3bed Rooms Duplex At Ejigbo.Lagos Ma...     450000    other   \n",
       "2031  Luxury Executive Mini Flat with 2 toilets and ...     250000    other   \n",
       "2052  Executive 2bed Rooms Flat at Idimu Ejigbo Esta...     300000    other   \n",
       "2190  A First Floor 3 Bedroom Flat At Off Estate Roa...    1200000    other   \n",
       "2252  Nice And Newly Renovated 3 Bedroom Apartment F...     650000    other   \n",
       "2265  Newly Built 2 Bedroom Apartment For Rent At Ok...     450000    other   \n",
       "2304  Decent 2 Bedroom Apartment For Rent At Haruna....     750000    other   \n",
       "2337                          Executive 3 Bedroom Flat      450000    other   \n",
       "2339           Very Clean Self Contain For Rent At Ogba     250000    other   \n",
       "2344  Newly Built 2 Bedroom Flats With Excellent Fin...     700000    other   \n",
       "2366  Newly Renovated 2 Bedroom Apartment For Rent A...    1300000    other   \n",
       "2388  Newly Renovated House Of 4 Units Of 3 Bedroom ...   10800000    other   \n",
       "2481  4 Bedroom Terrace Duplex With Bq At Ilupeju Lagos    3000000    other   \n",
       "2518  Standard 3bedroom Flat With Visitors Toilet Al...     500000    other   \n",
       "2554    An Executive And Exquisitely Finished Mini Flat     180000    other   \n",
       "2555  Tastefully finished 3 Bedroom with mini flat b...    1500000    other   \n",
       "2561                   5bedroom Detached Duplex With BQ    2000000    other   \n",
       "2570  9 FLATS OF SPACIOUS 3 BEDROOM APARTMENT FOR LE...    5400000    other   \n",
       "2579           3 Bedroom Flat At Solomon Avenue Olowora     900000    other   \n",
       "2588     Newly Renovated 3bedrooms Flat At Ogba Oke Ira     900000    other   \n",
       "2639  New 4 Bedroom Terrace Duplex With Bq At Ilupej...    3600000    other   \n",
       "2650  Newly Renovated and Very Spacious 4 nos 3 Bedr...   10800000    other   \n",
       "\n",
       "      Beds  Baths  Toilets  Price_per_room  Total_rooms  \n",
       "9        3      3        4    2.200000e+05           10  \n",
       "18       2      2        3    5.714286e+04            7  \n",
       "1333     4      5        6    6.666667e+06           15  \n",
       "1370     4      4        5    7.692308e+03           13  \n",
       "1385     4      4        5    7.692308e+03           13  \n",
       "1473     4      4        5    3.076923e+06           13  \n",
       "1519     2      2        3    2.142857e+05            7  \n",
       "1522     3      3        4    7.000000e+04           10  \n",
       "1535     2      2        2    5.000000e+04            6  \n",
       "1981     3      3        3    5.000000e+04            9  \n",
       "2031     1      1        2    6.250000e+04            4  \n",
       "2052     2      2        2    5.000000e+04            6  \n",
       "2190     3      3        4    1.200000e+05           10  \n",
       "2252     3      3        3    7.222222e+04            9  \n",
       "2265     2      2        2    7.500000e+04            6  \n",
       "2304     2      2        3    1.071429e+05            7  \n",
       "2337     3      3        3    5.000000e+04            9  \n",
       "2339     1      1        1    8.333333e+04            3  \n",
       "2344     2      2        3    1.000000e+05            7  \n",
       "2366     2      2        2    2.166667e+05            6  \n",
       "2388    10     10       10    3.600000e+05           30  \n",
       "2481     4      4        5    2.307692e+05           13  \n",
       "2518     3      4        4    4.545455e+04           11  \n",
       "2554     1      1        1    6.000000e+04            3  \n",
       "2555     3      4        4    1.363636e+05           11  \n",
       "2561     5      5        6    1.250000e+05           16  \n",
       "2570     3      3        3    6.000000e+05            9  \n",
       "2579     3      3        3    1.000000e+05            9  \n",
       "2588     3      3        4    9.000000e+04           10  \n",
       "2639     4      4        5    2.769231e+05           13  \n",
       "2650     3      3        4    1.080000e+06           10  "
      ]
     },
     "execution_count": 22,
     "metadata": {},
     "output_type": "execute_result"
    }
   ],
   "source": [
    "lag[lag.Location == 'other']"
   ]
  },
  {
   "cell_type": "code",
   "execution_count": 23,
   "metadata": {},
   "outputs": [],
   "source": [
    "def remove_PPR_outliers(df):\n",
    "    df_out = pd.DataFrame()\n",
    "    for key, subdf in df.groupby('Location'):\n",
    "        mean = subdf['Price_per_room'].mean()\n",
    "        std  = subdf['Price_per_room'].std()\n",
    "        new_df = subdf[(subdf['Price_per_room'] >= (mean - std)) & (subdf['Price_per_room'] <= (mean + std))]\n",
    "        df_out = pd.concat([df_out, new_df], ignore_index= True)\n",
    "    return df_out"
   ]
  },
  {
   "cell_type": "code",
   "execution_count": 24,
   "metadata": {},
   "outputs": [
    {
     "data": {
      "text/plain": [
       "2665"
      ]
     },
     "execution_count": 24,
     "metadata": {},
     "output_type": "execute_result"
    }
   ],
   "source": [
    "len(lag)"
   ]
  },
  {
   "cell_type": "code",
   "execution_count": 25,
   "metadata": {},
   "outputs": [],
   "source": [
    "lag_df = remove_PPR_outliers(lag)"
   ]
  },
  {
   "cell_type": "code",
   "execution_count": 26,
   "metadata": {},
   "outputs": [
    {
     "data": {
      "text/plain": [
       "2317"
      ]
     },
     "execution_count": 26,
     "metadata": {},
     "output_type": "execute_result"
    }
   ],
   "source": [
    "len(lag_df)"
   ]
  },
  {
   "cell_type": "code",
   "execution_count": 27,
   "metadata": {},
   "outputs": [
    {
     "data": {
      "text/html": [
       "<div>\n",
       "<style scoped>\n",
       "    .dataframe tbody tr th:only-of-type {\n",
       "        vertical-align: middle;\n",
       "    }\n",
       "\n",
       "    .dataframe tbody tr th {\n",
       "        vertical-align: top;\n",
       "    }\n",
       "\n",
       "    .dataframe thead th {\n",
       "        text-align: right;\n",
       "    }\n",
       "</style>\n",
       "<table border=\"1\" class=\"dataframe\">\n",
       "  <thead>\n",
       "    <tr style=\"text-align: right;\">\n",
       "      <th></th>\n",
       "      <th>Title</th>\n",
       "      <th>Price</th>\n",
       "      <th>Location</th>\n",
       "      <th>Beds</th>\n",
       "      <th>Baths</th>\n",
       "      <th>Toilets</th>\n",
       "      <th>Price_per_room</th>\n",
       "      <th>Total_rooms</th>\n",
       "    </tr>\n",
       "  </thead>\n",
       "  <tbody>\n",
       "    <tr>\n",
       "      <th>0</th>\n",
       "      <td>2 Bedroom Flat / Apartment For Rent Ilaje Ajah...</td>\n",
       "      <td>650000</td>\n",
       "      <td>Ajah</td>\n",
       "      <td>2</td>\n",
       "      <td>2</td>\n",
       "      <td>2</td>\n",
       "      <td>108333.333333</td>\n",
       "      <td>6</td>\n",
       "    </tr>\n",
       "    <tr>\n",
       "      <th>1</th>\n",
       "      <td>2 Bedroom Flat / Apartment For Rent Ilaje Ajah...</td>\n",
       "      <td>650000</td>\n",
       "      <td>Ajah</td>\n",
       "      <td>2</td>\n",
       "      <td>2</td>\n",
       "      <td>2</td>\n",
       "      <td>108333.333333</td>\n",
       "      <td>6</td>\n",
       "    </tr>\n",
       "    <tr>\n",
       "      <th>2</th>\n",
       "      <td>2 Bedroom Flat / Apartment For Rent Ilaje Ajah...</td>\n",
       "      <td>650000</td>\n",
       "      <td>Ajah</td>\n",
       "      <td>2</td>\n",
       "      <td>2</td>\n",
       "      <td>2</td>\n",
       "      <td>108333.333333</td>\n",
       "      <td>6</td>\n",
       "    </tr>\n",
       "    <tr>\n",
       "      <th>3</th>\n",
       "      <td>2 Bedroom Flat / Apartment For Rent Ilaje Ajah...</td>\n",
       "      <td>650000</td>\n",
       "      <td>Ajah</td>\n",
       "      <td>2</td>\n",
       "      <td>2</td>\n",
       "      <td>2</td>\n",
       "      <td>108333.333333</td>\n",
       "      <td>6</td>\n",
       "    </tr>\n",
       "    <tr>\n",
       "      <th>4</th>\n",
       "      <td>2 Bedroom Flat / Apartment For Rent Ilaje Ajah...</td>\n",
       "      <td>650000</td>\n",
       "      <td>Ajah</td>\n",
       "      <td>2</td>\n",
       "      <td>2</td>\n",
       "      <td>2</td>\n",
       "      <td>108333.333333</td>\n",
       "      <td>6</td>\n",
       "    </tr>\n",
       "  </tbody>\n",
       "</table>\n",
       "</div>"
      ],
      "text/plain": [
       "                                               Title   Price Location  Beds  \\\n",
       "0  2 Bedroom Flat / Apartment For Rent Ilaje Ajah...  650000     Ajah     2   \n",
       "1  2 Bedroom Flat / Apartment For Rent Ilaje Ajah...  650000     Ajah     2   \n",
       "2  2 Bedroom Flat / Apartment For Rent Ilaje Ajah...  650000     Ajah     2   \n",
       "3  2 Bedroom Flat / Apartment For Rent Ilaje Ajah...  650000     Ajah     2   \n",
       "4  2 Bedroom Flat / Apartment For Rent Ilaje Ajah...  650000     Ajah     2   \n",
       "\n",
       "   Baths  Toilets  Price_per_room  Total_rooms  \n",
       "0      2        2   108333.333333            6  \n",
       "1      2        2   108333.333333            6  \n",
       "2      2        2   108333.333333            6  \n",
       "3      2        2   108333.333333            6  \n",
       "4      2        2   108333.333333            6  "
      ]
     },
     "execution_count": 27,
     "metadata": {},
     "output_type": "execute_result"
    }
   ],
   "source": [
    "lag_df.head(5)"
   ]
  },
  {
   "cell_type": "code",
   "execution_count": 28,
   "metadata": {},
   "outputs": [],
   "source": [
    "def plot_lag(df, location):\n",
    "    bed2 = df[(df.Beds == 2) & (df.Location == location)]\n",
    "    bed3 = df[(df.Beds == 3) & (df.Location == location)]\n",
    "    plt.rcParams['figure.figsize'] = (15, 10)\n",
    "    plt.scatter(bed2.Total_rooms, bed2.Price, color = 'red',marker = '+', label = '2 Beds', s = 50)\n",
    "    plt.scatter(bed3.Total_rooms, bed3.Price, color = 'blue',marker = '.', label = '3 Beds', s = 50)\n",
    "    plt.xlabel('Total_rooms')\n",
    "    plt.ylabel('Price')\n",
    "    plt.legend()\n",
    "    plt.title(location)  "
   ]
  },
  {
   "cell_type": "code",
   "execution_count": 29,
   "metadata": {},
   "outputs": [
    {
     "data": {
      "image/png": "[encoded data removed]",
      "text/plain": [
       "<Figure size 1080x720 with 1 Axes>"
      ]
     },
     "metadata": {
      "needs_background": "light"
     },
     "output_type": "display_data"
    }
   ],
   "source": [
    "plot_lag(lag_df, 'Lekki')"
   ]
  },
  {
   "cell_type": "code",
   "execution_count": 30,
   "metadata": {},
   "outputs": [],
   "source": [
    "def remove_beds_outliers(df):\n",
    "    exclude_indices = np.array([])\n",
    "    for location, location_df in df.groupby('Location'):\n",
    "        beds_stat = {}\n",
    "        for beds,  beds_df in location_df.groupby('Beds'):\n",
    "            beds_stat[beds] = {\n",
    "                'mean' : np.mean(beds_df.Price_per_room),\n",
    "                'count' : beds_df.shape[0]  \n",
    "            }\n",
    "        for beds, beds_df in location_df.groupby('Beds'): \n",
    "            stats = beds_stat.get(beds- 1)\n",
    "            if stats and stats['count'] > 5:\n",
    "                exclude_indices = np.append( exclude_indices, beds_df[beds_df.Price_per_room < (stats['mean'])].index.values)\n",
    "    df = df.drop( exclude_indices, axis = 'index')\n",
    "    return df"
   ]
  },
  {
   "cell_type": "code",
   "execution_count": 31,
   "metadata": {},
   "outputs": [],
   "source": [
    "new_lag_df = remove_beds_outliers(lag_df)"
   ]
  },
  {
   "cell_type": "code",
   "execution_count": 32,
   "metadata": {},
   "outputs": [
    {
     "data": {
      "text/plain": [
       "1425"
      ]
     },
     "execution_count": 32,
     "metadata": {},
     "output_type": "execute_result"
    }
   ],
   "source": [
    "len(new_lag_df)"
   ]
  },
  {
   "cell_type": "code",
   "execution_count": 33,
   "metadata": {},
   "outputs": [
    {
     "data": {
      "image/png": "[encoded data removed]",
      "text/plain": [
       "<Figure size 1080x720 with 1 Axes>"
      ]
     },
     "metadata": {
      "needs_background": "light"
     },
     "output_type": "display_data"
    }
   ],
   "source": [
    "plot_lag(new_lag_df, 'Lekki')"
   ]
  },
  {
   "cell_type": "code",
   "execution_count": 34,
   "metadata": {},
   "outputs": [
    {
     "data": {
      "text/plain": [
       "Text(0.5, 0, 'Price per room')"
      ]
     },
     "execution_count": 34,
     "metadata": {},
     "output_type": "execute_result"
    },
    {
     "data": {
      "image/png": "[encoded data removed]",
      "text/plain": [
       "<Figure size 1080x720 with 1 Axes>"
      ]
     },
     "metadata": {
      "needs_background": "light"
     },
     "output_type": "display_data"
    }
   ],
   "source": [
    "plt.hist(new_lag_df.Price_per_room)\n",
    "plt.ylabel('count')\n",
    "plt.xlabel('Price per room')"
   ]
  },
  {
   "cell_type": "code",
   "execution_count": 35,
   "metadata": {
    "scrolled": true
   },
   "outputs": [
    {
     "data": {
      "text/html": [
       "<div>\n",
       "<style scoped>\n",
       "    .dataframe tbody tr th:only-of-type {\n",
       "        vertical-align: middle;\n",
       "    }\n",
       "\n",
       "    .dataframe tbody tr th {\n",
       "        vertical-align: top;\n",
       "    }\n",
       "\n",
       "    .dataframe thead th {\n",
       "        text-align: right;\n",
       "    }\n",
       "</style>\n",
       "<table border=\"1\" class=\"dataframe\">\n",
       "  <thead>\n",
       "    <tr style=\"text-align: right;\">\n",
       "      <th></th>\n",
       "      <th>Title</th>\n",
       "      <th>Price</th>\n",
       "      <th>Location</th>\n",
       "      <th>Beds</th>\n",
       "      <th>Baths</th>\n",
       "      <th>Toilets</th>\n",
       "      <th>Price_per_room</th>\n",
       "      <th>Total_rooms</th>\n",
       "    </tr>\n",
       "  </thead>\n",
       "  <tbody>\n",
       "  </tbody>\n",
       "</table>\n",
       "</div>"
      ],
      "text/plain": [
       "Empty DataFrame\n",
       "Columns: [Title, Price, Location, Beds, Baths, Toilets, Price_per_room, Total_rooms]\n",
       "Index: []"
      ]
     },
     "execution_count": 35,
     "metadata": {},
     "output_type": "execute_result"
    }
   ],
   "source": [
    "new_lag_df[new_lag_df.Baths > new_lag_df.Beds + 2]"
   ]
  },
  {
   "cell_type": "code",
   "execution_count": 36,
   "metadata": {},
   "outputs": [
    {
     "data": {
      "text/html": [
       "<div>\n",
       "<style scoped>\n",
       "    .dataframe tbody tr th:only-of-type {\n",
       "        vertical-align: middle;\n",
       "    }\n",
       "\n",
       "    .dataframe tbody tr th {\n",
       "        vertical-align: top;\n",
       "    }\n",
       "\n",
       "    .dataframe thead th {\n",
       "        text-align: right;\n",
       "    }\n",
       "</style>\n",
       "<table border=\"1\" class=\"dataframe\">\n",
       "  <thead>\n",
       "    <tr style=\"text-align: right;\">\n",
       "      <th></th>\n",
       "      <th>Title</th>\n",
       "      <th>Price</th>\n",
       "      <th>Location</th>\n",
       "      <th>Beds</th>\n",
       "      <th>Baths</th>\n",
       "      <th>Toilets</th>\n",
       "      <th>Price_per_room</th>\n",
       "      <th>Total_rooms</th>\n",
       "    </tr>\n",
       "  </thead>\n",
       "  <tbody>\n",
       "    <tr>\n",
       "      <th>789</th>\n",
       "      <td>6 Bedroom Bungalow On A 4 Plots Of Land</td>\n",
       "      <td>3000000</td>\n",
       "      <td>Ikorodu</td>\n",
       "      <td>6</td>\n",
       "      <td>6</td>\n",
       "      <td>10</td>\n",
       "      <td>136363.636364</td>\n",
       "      <td>22</td>\n",
       "    </tr>\n",
       "  </tbody>\n",
       "</table>\n",
       "</div>"
      ],
      "text/plain": [
       "                                       Title    Price Location  Beds  Baths  \\\n",
       "789  6 Bedroom Bungalow On A 4 Plots Of Land  3000000  Ikorodu     6      6   \n",
       "\n",
       "     Toilets  Price_per_room  Total_rooms  \n",
       "789       10   136363.636364           22  "
      ]
     },
     "execution_count": 36,
     "metadata": {},
     "output_type": "execute_result"
    }
   ],
   "source": [
    "new_lag_df[new_lag_df.Toilets > new_lag_df.Beds + 2]"
   ]
  },
  {
   "cell_type": "code",
   "execution_count": 37,
   "metadata": {
    "scrolled": true
   },
   "outputs": [],
   "source": [
    "final_lag_df = new_lag_df[new_lag_df.Toilets < new_lag_df.Beds + 2]"
   ]
  },
  {
   "cell_type": "code",
   "execution_count": 38,
   "metadata": {},
   "outputs": [],
   "source": [
    "final_lag_df = final_lag_df.drop(['Title', 'Price_per_room', 'Total_rooms'], axis = 'columns')"
   ]
  },
  {
   "cell_type": "code",
   "execution_count": 39,
   "metadata": {},
   "outputs": [
    {
     "data": {
      "text/html": [
       "<div>\n",
       "<style scoped>\n",
       "    .dataframe tbody tr th:only-of-type {\n",
       "        vertical-align: middle;\n",
       "    }\n",
       "\n",
       "    .dataframe tbody tr th {\n",
       "        vertical-align: top;\n",
       "    }\n",
       "\n",
       "    .dataframe thead th {\n",
       "        text-align: right;\n",
       "    }\n",
       "</style>\n",
       "<table border=\"1\" class=\"dataframe\">\n",
       "  <thead>\n",
       "    <tr style=\"text-align: right;\">\n",
       "      <th></th>\n",
       "      <th>Price</th>\n",
       "      <th>Location</th>\n",
       "      <th>Beds</th>\n",
       "      <th>Baths</th>\n",
       "      <th>Toilets</th>\n",
       "    </tr>\n",
       "  </thead>\n",
       "  <tbody>\n",
       "    <tr>\n",
       "      <th>0</th>\n",
       "      <td>650000</td>\n",
       "      <td>Ajah</td>\n",
       "      <td>2</td>\n",
       "      <td>2</td>\n",
       "      <td>2</td>\n",
       "    </tr>\n",
       "    <tr>\n",
       "      <th>1</th>\n",
       "      <td>650000</td>\n",
       "      <td>Ajah</td>\n",
       "      <td>2</td>\n",
       "      <td>2</td>\n",
       "      <td>2</td>\n",
       "    </tr>\n",
       "    <tr>\n",
       "      <th>2</th>\n",
       "      <td>650000</td>\n",
       "      <td>Ajah</td>\n",
       "      <td>2</td>\n",
       "      <td>2</td>\n",
       "      <td>2</td>\n",
       "    </tr>\n",
       "    <tr>\n",
       "      <th>3</th>\n",
       "      <td>650000</td>\n",
       "      <td>Ajah</td>\n",
       "      <td>2</td>\n",
       "      <td>2</td>\n",
       "      <td>2</td>\n",
       "    </tr>\n",
       "    <tr>\n",
       "      <th>4</th>\n",
       "      <td>650000</td>\n",
       "      <td>Ajah</td>\n",
       "      <td>2</td>\n",
       "      <td>2</td>\n",
       "      <td>2</td>\n",
       "    </tr>\n",
       "    <tr>\n",
       "      <th>...</th>\n",
       "      <td>...</td>\n",
       "      <td>...</td>\n",
       "      <td>...</td>\n",
       "      <td>...</td>\n",
       "      <td>...</td>\n",
       "    </tr>\n",
       "    <tr>\n",
       "      <th>2310</th>\n",
       "      <td>1500000</td>\n",
       "      <td>other</td>\n",
       "      <td>3</td>\n",
       "      <td>4</td>\n",
       "      <td>4</td>\n",
       "    </tr>\n",
       "    <tr>\n",
       "      <th>2311</th>\n",
       "      <td>2000000</td>\n",
       "      <td>other</td>\n",
       "      <td>5</td>\n",
       "      <td>5</td>\n",
       "      <td>6</td>\n",
       "    </tr>\n",
       "    <tr>\n",
       "      <th>2312</th>\n",
       "      <td>5400000</td>\n",
       "      <td>other</td>\n",
       "      <td>3</td>\n",
       "      <td>3</td>\n",
       "      <td>3</td>\n",
       "    </tr>\n",
       "    <tr>\n",
       "      <th>2315</th>\n",
       "      <td>3600000</td>\n",
       "      <td>other</td>\n",
       "      <td>4</td>\n",
       "      <td>4</td>\n",
       "      <td>5</td>\n",
       "    </tr>\n",
       "    <tr>\n",
       "      <th>2316</th>\n",
       "      <td>10800000</td>\n",
       "      <td>other</td>\n",
       "      <td>3</td>\n",
       "      <td>3</td>\n",
       "      <td>4</td>\n",
       "    </tr>\n",
       "  </tbody>\n",
       "</table>\n",
       "<p>1417 rows × 5 columns</p>\n",
       "</div>"
      ],
      "text/plain": [
       "         Price Location  Beds  Baths  Toilets\n",
       "0       650000     Ajah     2      2        2\n",
       "1       650000     Ajah     2      2        2\n",
       "2       650000     Ajah     2      2        2\n",
       "3       650000     Ajah     2      2        2\n",
       "4       650000     Ajah     2      2        2\n",
       "...        ...      ...   ...    ...      ...\n",
       "2310   1500000    other     3      4        4\n",
       "2311   2000000    other     5      5        6\n",
       "2312   5400000    other     3      3        3\n",
       "2315   3600000    other     4      4        5\n",
       "2316  10800000    other     3      3        4\n",
       "\n",
       "[1417 rows x 5 columns]"
      ]
     },
     "execution_count": 39,
     "metadata": {},
     "output_type": "execute_result"
    }
   ],
   "source": [
    "final_lag_df"
   ]
  },
  {
   "cell_type": "code",
   "execution_count": 40,
   "metadata": {},
   "outputs": [
    {
     "data": {
      "text/plain": [
       "Location\n",
       "Lekki              371\n",
       "Ikorodu            336\n",
       "Ikoyi              173\n",
       "Ajah               133\n",
       "Ibeju Lekki        111\n",
       "Victoria Island     83\n",
       "Ikeja               39\n",
       "Yaba                39\n",
       "Surulere            21\n",
       "Isolo               20\n",
       "other               20\n",
       "Maryland            16\n",
       "Gbagada             12\n",
       "Ojodu                9\n",
       "Shomolu              9\n",
       "Ogudu                7\n",
       "Ikosi                7\n",
       "Odofin               6\n",
       "Okota                5\n",
       "Name: Location, dtype: int64"
      ]
     },
     "execution_count": 40,
     "metadata": {},
     "output_type": "execute_result"
    }
   ],
   "source": [
    "final_lag_df.groupby('Location')['Location'].count().sort_values(ascending = False)"
   ]
  },
  {
   "cell_type": "code",
   "execution_count": 46,
   "metadata": {},
   "outputs": [
    {
     "data": {
      "text/html": [
       "<div>\n",
       "<style scoped>\n",
       "    .dataframe tbody tr th:only-of-type {\n",
       "        vertical-align: middle;\n",
       "    }\n",
       "\n",
       "    .dataframe tbody tr th {\n",
       "        vertical-align: top;\n",
       "    }\n",
       "\n",
       "    .dataframe thead th {\n",
       "        text-align: right;\n",
       "    }\n",
       "</style>\n",
       "<table border=\"1\" class=\"dataframe\">\n",
       "  <thead>\n",
       "    <tr style=\"text-align: right;\">\n",
       "      <th></th>\n",
       "      <th>Price</th>\n",
       "      <th>Location</th>\n",
       "      <th>Beds</th>\n",
       "      <th>Baths</th>\n",
       "      <th>Toilets</th>\n",
       "    </tr>\n",
       "  </thead>\n",
       "  <tbody>\n",
       "    <tr>\n",
       "      <th>0</th>\n",
       "      <td>650000</td>\n",
       "      <td>Ajah</td>\n",
       "      <td>2</td>\n",
       "      <td>2</td>\n",
       "      <td>2</td>\n",
       "    </tr>\n",
       "    <tr>\n",
       "      <th>1</th>\n",
       "      <td>650000</td>\n",
       "      <td>Ajah</td>\n",
       "      <td>2</td>\n",
       "      <td>2</td>\n",
       "      <td>2</td>\n",
       "    </tr>\n",
       "  </tbody>\n",
       "</table>\n",
       "</div>"
      ],
      "text/plain": [
       "    Price Location  Beds  Baths  Toilets\n",
       "0  650000     Ajah     2      2        2\n",
       "1  650000     Ajah     2      2        2"
      ]
     },
     "execution_count": 46,
     "metadata": {},
     "output_type": "execute_result"
    }
   ],
   "source": [
    "final_lag_df.head(2)"
   ]
  },
  {
   "cell_type": "code",
   "execution_count": 47,
   "metadata": {},
   "outputs": [],
   "source": [
    "dummies = pd.get_dummies(final_lag_df.Location)"
   ]
  },
  {
   "cell_type": "code",
   "execution_count": 49,
   "metadata": {},
   "outputs": [
    {
     "data": {
      "text/html": [
       "<div>\n",
       "<style scoped>\n",
       "    .dataframe tbody tr th:only-of-type {\n",
       "        vertical-align: middle;\n",
       "    }\n",
       "\n",
       "    .dataframe tbody tr th {\n",
       "        vertical-align: top;\n",
       "    }\n",
       "\n",
       "    .dataframe thead th {\n",
       "        text-align: right;\n",
       "    }\n",
       "</style>\n",
       "<table border=\"1\" class=\"dataframe\">\n",
       "  <thead>\n",
       "    <tr style=\"text-align: right;\">\n",
       "      <th></th>\n",
       "      <th>Ajah</th>\n",
       "      <th>Gbagada</th>\n",
       "      <th>Ibeju Lekki</th>\n",
       "      <th>Ikeja</th>\n",
       "      <th>Ikorodu</th>\n",
       "      <th>Ikosi</th>\n",
       "      <th>Ikoyi</th>\n",
       "      <th>Isolo</th>\n",
       "      <th>Lekki</th>\n",
       "      <th>Maryland</th>\n",
       "      <th>Odofin</th>\n",
       "      <th>Ogudu</th>\n",
       "      <th>Ojodu</th>\n",
       "      <th>Okota</th>\n",
       "      <th>Shomolu</th>\n",
       "      <th>Surulere</th>\n",
       "      <th>Victoria Island</th>\n",
       "      <th>Yaba</th>\n",
       "      <th>other</th>\n",
       "    </tr>\n",
       "  </thead>\n",
       "  <tbody>\n",
       "    <tr>\n",
       "      <th>0</th>\n",
       "      <td>1</td>\n",
       "      <td>0</td>\n",
       "      <td>0</td>\n",
       "      <td>0</td>\n",
       "      <td>0</td>\n",
       "      <td>0</td>\n",
       "      <td>0</td>\n",
       "      <td>0</td>\n",
       "      <td>0</td>\n",
       "      <td>0</td>\n",
       "      <td>0</td>\n",
       "      <td>0</td>\n",
       "      <td>0</td>\n",
       "      <td>0</td>\n",
       "      <td>0</td>\n",
       "      <td>0</td>\n",
       "      <td>0</td>\n",
       "      <td>0</td>\n",
       "      <td>0</td>\n",
       "    </tr>\n",
       "    <tr>\n",
       "      <th>1</th>\n",
       "      <td>1</td>\n",
       "      <td>0</td>\n",
       "      <td>0</td>\n",
       "      <td>0</td>\n",
       "      <td>0</td>\n",
       "      <td>0</td>\n",
       "      <td>0</td>\n",
       "      <td>0</td>\n",
       "      <td>0</td>\n",
       "      <td>0</td>\n",
       "      <td>0</td>\n",
       "      <td>0</td>\n",
       "      <td>0</td>\n",
       "      <td>0</td>\n",
       "      <td>0</td>\n",
       "      <td>0</td>\n",
       "      <td>0</td>\n",
       "      <td>0</td>\n",
       "      <td>0</td>\n",
       "    </tr>\n",
       "    <tr>\n",
       "      <th>2</th>\n",
       "      <td>1</td>\n",
       "      <td>0</td>\n",
       "      <td>0</td>\n",
       "      <td>0</td>\n",
       "      <td>0</td>\n",
       "      <td>0</td>\n",
       "      <td>0</td>\n",
       "      <td>0</td>\n",
       "      <td>0</td>\n",
       "      <td>0</td>\n",
       "      <td>0</td>\n",
       "      <td>0</td>\n",
       "      <td>0</td>\n",
       "      <td>0</td>\n",
       "      <td>0</td>\n",
       "      <td>0</td>\n",
       "      <td>0</td>\n",
       "      <td>0</td>\n",
       "      <td>0</td>\n",
       "    </tr>\n",
       "    <tr>\n",
       "      <th>3</th>\n",
       "      <td>1</td>\n",
       "      <td>0</td>\n",
       "      <td>0</td>\n",
       "      <td>0</td>\n",
       "      <td>0</td>\n",
       "      <td>0</td>\n",
       "      <td>0</td>\n",
       "      <td>0</td>\n",
       "      <td>0</td>\n",
       "      <td>0</td>\n",
       "      <td>0</td>\n",
       "      <td>0</td>\n",
       "      <td>0</td>\n",
       "      <td>0</td>\n",
       "      <td>0</td>\n",
       "      <td>0</td>\n",
       "      <td>0</td>\n",
       "      <td>0</td>\n",
       "      <td>0</td>\n",
       "    </tr>\n",
       "    <tr>\n",
       "      <th>4</th>\n",
       "      <td>1</td>\n",
       "      <td>0</td>\n",
       "      <td>0</td>\n",
       "      <td>0</td>\n",
       "      <td>0</td>\n",
       "      <td>0</td>\n",
       "      <td>0</td>\n",
       "      <td>0</td>\n",
       "      <td>0</td>\n",
       "      <td>0</td>\n",
       "      <td>0</td>\n",
       "      <td>0</td>\n",
       "      <td>0</td>\n",
       "      <td>0</td>\n",
       "      <td>0</td>\n",
       "      <td>0</td>\n",
       "      <td>0</td>\n",
       "      <td>0</td>\n",
       "      <td>0</td>\n",
       "    </tr>\n",
       "  </tbody>\n",
       "</table>\n",
       "</div>"
      ],
      "text/plain": [
       "   Ajah  Gbagada  Ibeju Lekki  Ikeja  Ikorodu  Ikosi  Ikoyi  Isolo  Lekki  \\\n",
       "0     1        0            0      0        0      0      0      0      0   \n",
       "1     1        0            0      0        0      0      0      0      0   \n",
       "2     1        0            0      0        0      0      0      0      0   \n",
       "3     1        0            0      0        0      0      0      0      0   \n",
       "4     1        0            0      0        0      0      0      0      0   \n",
       "\n",
       "   Maryland  Odofin  Ogudu  Ojodu  Okota  Shomolu  Surulere  Victoria Island  \\\n",
       "0         0       0      0      0      0        0         0                0   \n",
       "1         0       0      0      0      0        0         0                0   \n",
       "2         0       0      0      0      0        0         0                0   \n",
       "3         0       0      0      0      0        0         0                0   \n",
       "4         0       0      0      0      0        0         0                0   \n",
       "\n",
       "   Yaba  other  \n",
       "0     0      0  \n",
       "1     0      0  \n",
       "2     0      0  \n",
       "3     0      0  \n",
       "4     0      0  "
      ]
     },
     "execution_count": 49,
     "metadata": {},
     "output_type": "execute_result"
    }
   ],
   "source": [
    "dummies.head(5)"
   ]
  },
  {
   "cell_type": "code",
   "execution_count": 50,
   "metadata": {},
   "outputs": [],
   "source": [
    "df = pd.concat([final_lag_df, dummies], axis = 'columns')"
   ]
  },
  {
   "cell_type": "code",
   "execution_count": 51,
   "metadata": {},
   "outputs": [
    {
     "data": {
      "text/html": [
       "<div>\n",
       "<style scoped>\n",
       "    .dataframe tbody tr th:only-of-type {\n",
       "        vertical-align: middle;\n",
       "    }\n",
       "\n",
       "    .dataframe tbody tr th {\n",
       "        vertical-align: top;\n",
       "    }\n",
       "\n",
       "    .dataframe thead th {\n",
       "        text-align: right;\n",
       "    }\n",
       "</style>\n",
       "<table border=\"1\" class=\"dataframe\">\n",
       "  <thead>\n",
       "    <tr style=\"text-align: right;\">\n",
       "      <th></th>\n",
       "      <th>Price</th>\n",
       "      <th>Location</th>\n",
       "      <th>Beds</th>\n",
       "      <th>Baths</th>\n",
       "      <th>Toilets</th>\n",
       "      <th>Ajah</th>\n",
       "      <th>Gbagada</th>\n",
       "      <th>Ibeju Lekki</th>\n",
       "      <th>Ikeja</th>\n",
       "      <th>Ikorodu</th>\n",
       "      <th>...</th>\n",
       "      <th>Maryland</th>\n",
       "      <th>Odofin</th>\n",
       "      <th>Ogudu</th>\n",
       "      <th>Ojodu</th>\n",
       "      <th>Okota</th>\n",
       "      <th>Shomolu</th>\n",
       "      <th>Surulere</th>\n",
       "      <th>Victoria Island</th>\n",
       "      <th>Yaba</th>\n",
       "      <th>other</th>\n",
       "    </tr>\n",
       "  </thead>\n",
       "  <tbody>\n",
       "    <tr>\n",
       "      <th>0</th>\n",
       "      <td>650000</td>\n",
       "      <td>Ajah</td>\n",
       "      <td>2</td>\n",
       "      <td>2</td>\n",
       "      <td>2</td>\n",
       "      <td>1</td>\n",
       "      <td>0</td>\n",
       "      <td>0</td>\n",
       "      <td>0</td>\n",
       "      <td>0</td>\n",
       "      <td>...</td>\n",
       "      <td>0</td>\n",
       "      <td>0</td>\n",
       "      <td>0</td>\n",
       "      <td>0</td>\n",
       "      <td>0</td>\n",
       "      <td>0</td>\n",
       "      <td>0</td>\n",
       "      <td>0</td>\n",
       "      <td>0</td>\n",
       "      <td>0</td>\n",
       "    </tr>\n",
       "    <tr>\n",
       "      <th>1</th>\n",
       "      <td>650000</td>\n",
       "      <td>Ajah</td>\n",
       "      <td>2</td>\n",
       "      <td>2</td>\n",
       "      <td>2</td>\n",
       "      <td>1</td>\n",
       "      <td>0</td>\n",
       "      <td>0</td>\n",
       "      <td>0</td>\n",
       "      <td>0</td>\n",
       "      <td>...</td>\n",
       "      <td>0</td>\n",
       "      <td>0</td>\n",
       "      <td>0</td>\n",
       "      <td>0</td>\n",
       "      <td>0</td>\n",
       "      <td>0</td>\n",
       "      <td>0</td>\n",
       "      <td>0</td>\n",
       "      <td>0</td>\n",
       "      <td>0</td>\n",
       "    </tr>\n",
       "  </tbody>\n",
       "</table>\n",
       "<p>2 rows × 24 columns</p>\n",
       "</div>"
      ],
      "text/plain": [
       "    Price Location  Beds  Baths  Toilets  Ajah  Gbagada  Ibeju Lekki  Ikeja  \\\n",
       "0  650000     Ajah     2      2        2     1        0            0      0   \n",
       "1  650000     Ajah     2      2        2     1        0            0      0   \n",
       "\n",
       "   Ikorodu  ...  Maryland  Odofin  Ogudu  Ojodu  Okota  Shomolu  Surulere  \\\n",
       "0        0  ...         0       0      0      0      0        0         0   \n",
       "1        0  ...         0       0      0      0      0        0         0   \n",
       "\n",
       "   Victoria Island  Yaba  other  \n",
       "0                0     0      0  \n",
       "1                0     0      0  \n",
       "\n",
       "[2 rows x 24 columns]"
      ]
     },
     "execution_count": 51,
     "metadata": {},
     "output_type": "execute_result"
    }
   ],
   "source": [
    "df.head(2)"
   ]
  },
  {
   "cell_type": "code",
   "execution_count": 53,
   "metadata": {},
   "outputs": [],
   "source": [
    "df = df.drop('other', axis = 'columns')"
   ]
  },
  {
   "cell_type": "code",
   "execution_count": 54,
   "metadata": {
    "scrolled": true
   },
   "outputs": [
    {
     "data": {
      "text/html": [
       "<div>\n",
       "<style scoped>\n",
       "    .dataframe tbody tr th:only-of-type {\n",
       "        vertical-align: middle;\n",
       "    }\n",
       "\n",
       "    .dataframe tbody tr th {\n",
       "        vertical-align: top;\n",
       "    }\n",
       "\n",
       "    .dataframe thead th {\n",
       "        text-align: right;\n",
       "    }\n",
       "</style>\n",
       "<table border=\"1\" class=\"dataframe\">\n",
       "  <thead>\n",
       "    <tr style=\"text-align: right;\">\n",
       "      <th></th>\n",
       "      <th>Price</th>\n",
       "      <th>Location</th>\n",
       "      <th>Beds</th>\n",
       "      <th>Baths</th>\n",
       "      <th>Toilets</th>\n",
       "      <th>Ajah</th>\n",
       "      <th>Gbagada</th>\n",
       "      <th>Ibeju Lekki</th>\n",
       "      <th>Ikeja</th>\n",
       "      <th>Ikorodu</th>\n",
       "      <th>...</th>\n",
       "      <th>Lekki</th>\n",
       "      <th>Maryland</th>\n",
       "      <th>Odofin</th>\n",
       "      <th>Ogudu</th>\n",
       "      <th>Ojodu</th>\n",
       "      <th>Okota</th>\n",
       "      <th>Shomolu</th>\n",
       "      <th>Surulere</th>\n",
       "      <th>Victoria Island</th>\n",
       "      <th>Yaba</th>\n",
       "    </tr>\n",
       "  </thead>\n",
       "  <tbody>\n",
       "    <tr>\n",
       "      <th>0</th>\n",
       "      <td>650000</td>\n",
       "      <td>Ajah</td>\n",
       "      <td>2</td>\n",
       "      <td>2</td>\n",
       "      <td>2</td>\n",
       "      <td>1</td>\n",
       "      <td>0</td>\n",
       "      <td>0</td>\n",
       "      <td>0</td>\n",
       "      <td>0</td>\n",
       "      <td>...</td>\n",
       "      <td>0</td>\n",
       "      <td>0</td>\n",
       "      <td>0</td>\n",
       "      <td>0</td>\n",
       "      <td>0</td>\n",
       "      <td>0</td>\n",
       "      <td>0</td>\n",
       "      <td>0</td>\n",
       "      <td>0</td>\n",
       "      <td>0</td>\n",
       "    </tr>\n",
       "    <tr>\n",
       "      <th>1</th>\n",
       "      <td>650000</td>\n",
       "      <td>Ajah</td>\n",
       "      <td>2</td>\n",
       "      <td>2</td>\n",
       "      <td>2</td>\n",
       "      <td>1</td>\n",
       "      <td>0</td>\n",
       "      <td>0</td>\n",
       "      <td>0</td>\n",
       "      <td>0</td>\n",
       "      <td>...</td>\n",
       "      <td>0</td>\n",
       "      <td>0</td>\n",
       "      <td>0</td>\n",
       "      <td>0</td>\n",
       "      <td>0</td>\n",
       "      <td>0</td>\n",
       "      <td>0</td>\n",
       "      <td>0</td>\n",
       "      <td>0</td>\n",
       "      <td>0</td>\n",
       "    </tr>\n",
       "  </tbody>\n",
       "</table>\n",
       "<p>2 rows × 23 columns</p>\n",
       "</div>"
      ],
      "text/plain": [
       "    Price Location  Beds  Baths  Toilets  Ajah  Gbagada  Ibeju Lekki  Ikeja  \\\n",
       "0  650000     Ajah     2      2        2     1        0            0      0   \n",
       "1  650000     Ajah     2      2        2     1        0            0      0   \n",
       "\n",
       "   Ikorodu  ...  Lekki  Maryland  Odofin  Ogudu  Ojodu  Okota  Shomolu  \\\n",
       "0        0  ...      0         0       0      0      0      0        0   \n",
       "1        0  ...      0         0       0      0      0      0        0   \n",
       "\n",
       "   Surulere  Victoria Island  Yaba  \n",
       "0         0                0     0  \n",
       "1         0                0     0  \n",
       "\n",
       "[2 rows x 23 columns]"
      ]
     },
     "execution_count": 54,
     "metadata": {},
     "output_type": "execute_result"
    }
   ],
   "source": [
    "df.head(2)"
   ]
  },
  {
   "cell_type": "code",
   "execution_count": 56,
   "metadata": {},
   "outputs": [],
   "source": [
    "x = df.drop(['Price', 'Location'], axis = 'columns')"
   ]
  },
  {
   "cell_type": "code",
   "execution_count": 57,
   "metadata": {},
   "outputs": [],
   "source": [
    "y = df['Price']"
   ]
  },
  {
   "cell_type": "code",
   "execution_count": 55,
   "metadata": {},
   "outputs": [],
   "source": [
    "from sklearn.model_selection import train_test_split"
   ]
  },
  {
   "cell_type": "code",
   "execution_count": 69,
   "metadata": {},
   "outputs": [],
   "source": [
    "x_train, x_test, y_train, y_test = train_test_split(x,y, test_size = 0.1, random_state = 10)"
   ]
  },
  {
   "cell_type": "code",
   "execution_count": 61,
   "metadata": {},
   "outputs": [],
   "source": [
    "from sklearn.linear_model import LinearRegression\n",
    "from sklearn.linear_model import Lasso\n",
    "from sklearn.tree import DecisionTreeRegressor\n",
    "from sklearn.model_selection import GridSearchCV\n",
    "from sklearn.model_selection import ShuffleSplit"
   ]
  },
  {
   "cell_type": "code",
   "execution_count": 66,
   "metadata": {},
   "outputs": [],
   "source": [
    "def find_best_model(x, y):\n",
    "    config = {\n",
    "        'linear regression' : {\n",
    "            'model' : LinearRegression(),\n",
    "            'params' : {\n",
    "                'normalize' : [True, False]\n",
    "            }\n",
    "        },\n",
    "        'lasso' : {\n",
    "              'model' : Lasso(),\n",
    "              'params' : {\n",
    "                 'alpha' : [1.0, 2.0, 4.0, 5.0],\n",
    "                 'normalize'  : [True, False],\n",
    "                 'precompute' : [True, False],\n",
    "                 'positive'   : [True, False],\n",
    "                 'selection'  : ['cyclic', 'random']\n",
    "             }\n",
    "         },\n",
    "        'decision_tree': {\n",
    "            'model' : DecisionTreeRegressor(),\n",
    "            'params' : { \n",
    "                'criterion' : [\"mse\", \"friedman_mse\", \"mae\"],\n",
    "                'splitter'  : ['best', 'random']\n",
    "         }\n",
    "        }\n",
    "           \n",
    "    }\n",
    "    scores = []\n",
    "    cv = ShuffleSplit(n_splits= 5, test_size= 0.2, random_state= 0)\n",
    "    for model_name, model_params in config.items():\n",
    "        clf = GridSearchCV(model_params['model'], model_params['params'], cv = cv, return_train_score= False)\n",
    "        clf.fit(x,y)\n",
    "        scores.append({\n",
    "            'model' : model_name,\n",
    "            'best_score' : clf.best_score_,\n",
    "            'best_params' : clf.best_params_\n",
    "        })\n",
    "    return pd.DataFrame(scores)"
   ]
  },
  {
   "cell_type": "code",
   "execution_count": 67,
   "metadata": {},
   "outputs": [],
   "source": [
    "scores_df = find_best_model(x,y)"
   ]
  },
  {
   "cell_type": "code",
   "execution_count": 68,
   "metadata": {
    "scrolled": true
   },
   "outputs": [
    {
     "data": {
      "text/html": [
       "<div>\n",
       "<style scoped>\n",
       "    .dataframe tbody tr th:only-of-type {\n",
       "        vertical-align: middle;\n",
       "    }\n",
       "\n",
       "    .dataframe tbody tr th {\n",
       "        vertical-align: top;\n",
       "    }\n",
       "\n",
       "    .dataframe thead th {\n",
       "        text-align: right;\n",
       "    }\n",
       "</style>\n",
       "<table border=\"1\" class=\"dataframe\">\n",
       "  <thead>\n",
       "    <tr style=\"text-align: right;\">\n",
       "      <th></th>\n",
       "      <th>model</th>\n",
       "      <th>best_score</th>\n",
       "      <th>best_params</th>\n",
       "    </tr>\n",
       "  </thead>\n",
       "  <tbody>\n",
       "    <tr>\n",
       "      <th>0</th>\n",
       "      <td>linear regression</td>\n",
       "      <td>0.861997</td>\n",
       "      <td>{'normalize': True}</td>\n",
       "    </tr>\n",
       "    <tr>\n",
       "      <th>1</th>\n",
       "      <td>lasso</td>\n",
       "      <td>0.861997</td>\n",
       "      <td>{'alpha': 1.0, 'normalize': False, 'positive':...</td>\n",
       "    </tr>\n",
       "    <tr>\n",
       "      <th>2</th>\n",
       "      <td>decision_tree</td>\n",
       "      <td>0.936398</td>\n",
       "      <td>{'criterion': 'friedman_mse', 'splitter': 'ran...</td>\n",
       "    </tr>\n",
       "  </tbody>\n",
       "</table>\n",
       "</div>"
      ],
      "text/plain": [
       "               model  best_score  \\\n",
       "0  linear regression    0.861997   \n",
       "1              lasso    0.861997   \n",
       "2      decision_tree    0.936398   \n",
       "\n",
       "                                         best_params  \n",
       "0                                {'normalize': True}  \n",
       "1  {'alpha': 1.0, 'normalize': False, 'positive':...  \n",
       "2  {'criterion': 'friedman_mse', 'splitter': 'ran...  "
      ]
     },
     "execution_count": 68,
     "metadata": {},
     "output_type": "execute_result"
    }
   ],
   "source": [
    "scores_df"
   ]
  },
  {
   "cell_type": "code",
   "execution_count": 71,
   "metadata": {},
   "outputs": [
    {
     "data": {
      "text/plain": [
       "0.94204050299423"
      ]
     },
     "execution_count": 71,
     "metadata": {},
     "output_type": "execute_result"
    }
   ],
   "source": [
    "dt_clf = DecisionTreeRegressor()\n",
    "dt_clf.fit(x_train, y_train)\n",
    "dt_clf.score(x_test, y_test)"
   ]
  },
  {
   "cell_type": "code",
   "execution_count": 73,
   "metadata": {},
   "outputs": [
    {
     "data": {
      "text/html": [
       "<div>\n",
       "<style scoped>\n",
       "    .dataframe tbody tr th:only-of-type {\n",
       "        vertical-align: middle;\n",
       "    }\n",
       "\n",
       "    .dataframe tbody tr th {\n",
       "        vertical-align: top;\n",
       "    }\n",
       "\n",
       "    .dataframe thead th {\n",
       "        text-align: right;\n",
       "    }\n",
       "</style>\n",
       "<table border=\"1\" class=\"dataframe\">\n",
       "  <thead>\n",
       "    <tr style=\"text-align: right;\">\n",
       "      <th></th>\n",
       "      <th>Beds</th>\n",
       "      <th>Baths</th>\n",
       "      <th>Toilets</th>\n",
       "      <th>Ajah</th>\n",
       "      <th>Gbagada</th>\n",
       "      <th>Ibeju Lekki</th>\n",
       "      <th>Ikeja</th>\n",
       "      <th>Ikorodu</th>\n",
       "      <th>Ikosi</th>\n",
       "      <th>Ikoyi</th>\n",
       "      <th>...</th>\n",
       "      <th>Lekki</th>\n",
       "      <th>Maryland</th>\n",
       "      <th>Odofin</th>\n",
       "      <th>Ogudu</th>\n",
       "      <th>Ojodu</th>\n",
       "      <th>Okota</th>\n",
       "      <th>Shomolu</th>\n",
       "      <th>Surulere</th>\n",
       "      <th>Victoria Island</th>\n",
       "      <th>Yaba</th>\n",
       "    </tr>\n",
       "  </thead>\n",
       "  <tbody>\n",
       "    <tr>\n",
       "      <th>0</th>\n",
       "      <td>2</td>\n",
       "      <td>2</td>\n",
       "      <td>2</td>\n",
       "      <td>1</td>\n",
       "      <td>0</td>\n",
       "      <td>0</td>\n",
       "      <td>0</td>\n",
       "      <td>0</td>\n",
       "      <td>0</td>\n",
       "      <td>0</td>\n",
       "      <td>...</td>\n",
       "      <td>0</td>\n",
       "      <td>0</td>\n",
       "      <td>0</td>\n",
       "      <td>0</td>\n",
       "      <td>0</td>\n",
       "      <td>0</td>\n",
       "      <td>0</td>\n",
       "      <td>0</td>\n",
       "      <td>0</td>\n",
       "      <td>0</td>\n",
       "    </tr>\n",
       "    <tr>\n",
       "      <th>1</th>\n",
       "      <td>2</td>\n",
       "      <td>2</td>\n",
       "      <td>2</td>\n",
       "      <td>1</td>\n",
       "      <td>0</td>\n",
       "      <td>0</td>\n",
       "      <td>0</td>\n",
       "      <td>0</td>\n",
       "      <td>0</td>\n",
       "      <td>0</td>\n",
       "      <td>...</td>\n",
       "      <td>0</td>\n",
       "      <td>0</td>\n",
       "      <td>0</td>\n",
       "      <td>0</td>\n",
       "      <td>0</td>\n",
       "      <td>0</td>\n",
       "      <td>0</td>\n",
       "      <td>0</td>\n",
       "      <td>0</td>\n",
       "      <td>0</td>\n",
       "    </tr>\n",
       "  </tbody>\n",
       "</table>\n",
       "<p>2 rows × 21 columns</p>\n",
       "</div>"
      ],
      "text/plain": [
       "   Beds  Baths  Toilets  Ajah  Gbagada  Ibeju Lekki  Ikeja  Ikorodu  Ikosi  \\\n",
       "0     2      2        2     1        0            0      0        0      0   \n",
       "1     2      2        2     1        0            0      0        0      0   \n",
       "\n",
       "   Ikoyi  ...  Lekki  Maryland  Odofin  Ogudu  Ojodu  Okota  Shomolu  \\\n",
       "0      0  ...      0         0       0      0      0      0        0   \n",
       "1      0  ...      0         0       0      0      0      0        0   \n",
       "\n",
       "   Surulere  Victoria Island  Yaba  \n",
       "0         0                0     0  \n",
       "1         0                0     0  \n",
       "\n",
       "[2 rows x 21 columns]"
      ]
     },
     "execution_count": 73,
     "metadata": {},
     "output_type": "execute_result"
    }
   ],
   "source": [
    "x.head(2)"
   ]
  },
  {
   "cell_type": "code",
   "execution_count": 74,
   "metadata": {},
   "outputs": [],
   "source": [
    "def predict(beds, baths, toilets, location):\n",
    "    loc_index = np.where(x.columns== location)[0][0]\n",
    "    data = np.zeros(len(x.columns))\n",
    "    data[0] = beds\n",
    "    data[1] = baths\n",
    "    data[2] = toilets\n",
    "    if loc_index >= 0:\n",
    "        data[loc_index] = 1\n",
    "    return dt_clf.predict([data]) "
   ]
  },
  {
   "cell_type": "code",
   "execution_count": 78,
   "metadata": {},
   "outputs": [
    {
     "data": {
      "text/plain": [
       "array([215000.])"
      ]
     },
     "execution_count": 78,
     "metadata": {},
     "output_type": "execute_result"
    }
   ],
   "source": [
    "predict(1, 1, 1, 'Ojodu')"
   ]
  },
  {
   "cell_type": "code",
   "execution_count": 79,
   "metadata": {},
   "outputs": [
    {
     "name": "stderr",
     "output_type": "stream",
     "text": [
      "C:\\Users\\OzechiSamuel\\anaconda3\\lib\\site-packages\\sklearn\\externals\\joblib\\__init__.py:15: FutureWarning: sklearn.externals.joblib is deprecated in 0.21 and will be removed in 0.23. Please import this functionality directly from joblib, which can be installed with: pip install joblib. If this warning is raised when loading pickled models, you may need to re-serialize those models with scikit-learn 0.21+.\n",
      "  warnings.warn(msg, category=FutureWarning)\n"
     ]
    },
    {
     "data": {
      "text/plain": [
       "['lagos_home_price_model']"
      ]
     },
     "execution_count": 79,
     "metadata": {},
     "output_type": "execute_result"
    }
   ],
   "source": [
    "from sklearn.externals import joblib\n",
    "joblib.dump(dt_clf, 'lagos_home_price_model')"
   ]
  },
  {
   "cell_type": "code",
   "execution_count": 80,
   "metadata": {},
   "outputs": [],
   "source": [
    "import json\n",
    "\n",
    "columns = {\n",
    "    'data_columns' : [col.lower() for col in x.columns]\n",
    "}\n",
    "\n",
    "with open ('columns.json', 'w') as f:\n",
    "    f.write(json.dumps(columns))"
   ]
  }
 ],
 "metadata": {
  "kernelspec": {
   "display_name": "Python 3",
   "language": "python",
   "name": "python3"
  },
  "language_info": {
   "codemirror_mode": {
    "name": "ipython",
    "version": 3
   },
   "file_extension": ".py",
   "mimetype": "text/x-python",
   "name": "python",
   "nbconvert_exporter": "python",
   "pygments_lexer": "ipython3",
   "version": "3.7.6"
  }
 },
 "nbformat": 4,
 "nbformat_minor": 4
}
