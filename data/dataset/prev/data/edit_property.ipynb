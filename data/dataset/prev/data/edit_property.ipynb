{
 "cells": [
  {
   "cell_type": "code",
   "execution_count": 64,
   "metadata": {},
   "outputs": [],
   "source": [
    "import pandas as pd\n",
    "import numpy as np"
   ]
  },
  {
   "cell_type": "code",
   "execution_count": 65,
   "metadata": {},
   "outputs": [
    {
     "data": {
      "text/html": [
       "<div>\n",
       "<style scoped>\n",
       "    .dataframe tbody tr th:only-of-type {\n",
       "        vertical-align: middle;\n",
       "    }\n",
       "\n",
       "    .dataframe tbody tr th {\n",
       "        vertical-align: top;\n",
       "    }\n",
       "\n",
       "    .dataframe thead th {\n",
       "        text-align: right;\n",
       "    }\n",
       "</style>\n",
       "<table border=\"1\" class=\"dataframe\">\n",
       "  <thead>\n",
       "    <tr style=\"text-align: right;\">\n",
       "      <th></th>\n",
       "      <th>Title_URL</th>\n",
       "      <th>Content</th>\n",
       "      <th>Content1</th>\n",
       "      <th>item</th>\n",
       "      <th>Image</th>\n",
       "      <th>Image2</th>\n",
       "      <th>Image3</th>\n",
       "      <th>Price_URL</th>\n",
       "      <th>Price</th>\n",
       "      <th>hbeds</th>\n",
       "      <th>hbaths</th>\n",
       "      <th>hgarage</th>\n",
       "      <th>propertylocation</th>\n",
       "      <th>Address</th>\n",
       "      <th>Info_URL</th>\n",
       "      <th>Image4</th>\n",
       "    </tr>\n",
       "  </thead>\n",
       "  <tbody>\n",
       "    <tr>\n",
       "      <th>0</th>\n",
       "      <td>\\n12 Bedroom Office\\n</td>\n",
       "      <td>1</td>\n",
       "      <td>4</td>\n",
       "      <td>\\n*Newly Renovated and Very Spacious 4 Numbers...</td>\n",
       "      <td>NaN</td>\n",
       "      <td>NaN</td>\n",
       "      <td>NaN</td>\n",
       "      <td>https://www.privateproperty.com.ng/listings/12...</td>\n",
       "      <td>N10,800,000,000 per year</td>\n",
       "      <td>12.0</td>\n",
       "      <td>12.0</td>\n",
       "      <td>NaN</td>\n",
       "      <td>Town Planning Estate, Ilupeju, Lagos., Ilupe...</td>\n",
       "      <td>Newly Renovated 4 Units of 3 Bedroom Flats</td>\n",
       "      <td>https://www.privateproperty.com.ng/estate-agen...</td>\n",
       "      <td>NaN</td>\n",
       "    </tr>\n",
       "    <tr>\n",
       "      <th>1</th>\n",
       "      <td>\\n3 Bedroom Flat &amp; Apartment\\n</td>\n",
       "      <td>1</td>\n",
       "      <td>4</td>\n",
       "      <td>\\nSpacious and beautifully finished and furnis...</td>\n",
       "      <td>NaN</td>\n",
       "      <td>NaN</td>\n",
       "      <td>NaN</td>\n",
       "      <td>https://www.privateproperty.com.ng/listings/3-...</td>\n",
       "      <td>N9,000,000 per year</td>\n",
       "      <td>3.0</td>\n",
       "      <td>2.0</td>\n",
       "      <td>NaN</td>\n",
       "      <td>Club Road Ikoyi, Ikoyi</td>\n",
       "      <td>Furnished 3 bedroom Flat and apartment for le...</td>\n",
       "      <td>https://www.privateproperty.com.ng/estate-agen...</td>\n",
       "      <td>NaN</td>\n",
       "    </tr>\n",
       "    <tr>\n",
       "      <th>2</th>\n",
       "      <td>\\n4 Bedroom Duplex\\n</td>\n",
       "      <td>1</td>\n",
       "      <td>4</td>\n",
       "      <td>\\n4 bedroom semi detached, fully detached hous...</td>\n",
       "      <td>NaN</td>\n",
       "      <td>NaN</td>\n",
       "      <td>NaN</td>\n",
       "      <td>https://www.privateproperty.com.ng/listings/4-...</td>\n",
       "      <td>N3,500,000 per year</td>\n",
       "      <td>4.0</td>\n",
       "      <td>4.0</td>\n",
       "      <td>3.0</td>\n",
       "      <td>Roxby Homes, Vgc, Ikota, Lekki</td>\n",
       "      <td>4 BEDROOM DETACHED DUPLEX FOR RENT</td>\n",
       "      <td>https://www.privateproperty.com.ng/estate-agen...</td>\n",
       "      <td>NaN</td>\n",
       "    </tr>\n",
       "    <tr>\n",
       "      <th>3</th>\n",
       "      <td>\\n4 Bedroom Duplex\\n</td>\n",
       "      <td>1</td>\n",
       "      <td>4</td>\n",
       "      <td>\\nNewly built 4 Bedroom Semi- detached duplex,...</td>\n",
       "      <td>NaN</td>\n",
       "      <td>NaN</td>\n",
       "      <td>NaN</td>\n",
       "      <td>https://www.privateproperty.com.ng/listings/4-...</td>\n",
       "      <td>N3,600,000 per year</td>\n",
       "      <td>4.0</td>\n",
       "      <td>4.0</td>\n",
       "      <td>2.0</td>\n",
       "      <td>2Nd Toll Gate, Lekki Expressway, Lekki</td>\n",
       "      <td>Newly Built 4 Bedroom Semi - Detached Duplex ...</td>\n",
       "      <td>https://www.privateproperty.com.ng/estate-agen...</td>\n",
       "      <td>NaN</td>\n",
       "    </tr>\n",
       "    <tr>\n",
       "      <th>4</th>\n",
       "      <td>\\n4 Bedroom Duplex\\n</td>\n",
       "      <td>1</td>\n",
       "      <td>4</td>\n",
       "      <td>\\nWELL FINISHE FOUR BEDROOM DUPLEX WITH 2 ROOM...</td>\n",
       "      <td>NaN</td>\n",
       "      <td>NaN</td>\n",
       "      <td>NaN</td>\n",
       "      <td>https://www.privateproperty.com.ng/listings/4-...</td>\n",
       "      <td>N4,500,000 per year</td>\n",
       "      <td>4.0</td>\n",
       "      <td>4.0</td>\n",
       "      <td>NaN</td>\n",
       "      <td>Victoria Arubieke, Lekki Phase 1, Lekki</td>\n",
       "      <td>TASTEFULLY FINISHED FOUR BEDROOM DUPLEX WITH ...</td>\n",
       "      <td>https://www.privateproperty.com.ng/estate-agen...</td>\n",
       "      <td>NaN</td>\n",
       "    </tr>\n",
       "  </tbody>\n",
       "</table>\n",
       "</div>"
      ],
      "text/plain": [
       "                        Title_URL  Content  Content1  \\\n",
       "0           \\n12 Bedroom Office\\n        1         4   \n",
       "1  \\n3 Bedroom Flat & Apartment\\n        1         4   \n",
       "2            \\n4 Bedroom Duplex\\n        1         4   \n",
       "3            \\n4 Bedroom Duplex\\n        1         4   \n",
       "4            \\n4 Bedroom Duplex\\n        1         4   \n",
       "\n",
       "                                                item Image Image2 Image3  \\\n",
       "0  \\n*Newly Renovated and Very Spacious 4 Numbers...   NaN    NaN    NaN   \n",
       "1  \\nSpacious and beautifully finished and furnis...   NaN    NaN    NaN   \n",
       "2  \\n4 bedroom semi detached, fully detached hous...   NaN    NaN    NaN   \n",
       "3  \\nNewly built 4 Bedroom Semi- detached duplex,...   NaN    NaN    NaN   \n",
       "4  \\nWELL FINISHE FOUR BEDROOM DUPLEX WITH 2 ROOM...   NaN    NaN    NaN   \n",
       "\n",
       "                                           Price_URL  \\\n",
       "0  https://www.privateproperty.com.ng/listings/12...   \n",
       "1  https://www.privateproperty.com.ng/listings/3-...   \n",
       "2  https://www.privateproperty.com.ng/listings/4-...   \n",
       "3  https://www.privateproperty.com.ng/listings/4-...   \n",
       "4  https://www.privateproperty.com.ng/listings/4-...   \n",
       "\n",
       "                      Price  hbeds  hbaths  hgarage  \\\n",
       "0  N10,800,000,000 per year   12.0    12.0      NaN   \n",
       "1       N9,000,000 per year    3.0     2.0      NaN   \n",
       "2       N3,500,000 per year    4.0     4.0      3.0   \n",
       "3       N3,600,000 per year    4.0     4.0      2.0   \n",
       "4       N4,500,000 per year    4.0     4.0      NaN   \n",
       "\n",
       "                                    propertylocation  \\\n",
       "0    Town Planning Estate, Ilupeju, Lagos., Ilupe...   \n",
       "1                             Club Road Ikoyi, Ikoyi   \n",
       "2                     Roxby Homes, Vgc, Ikota, Lekki   \n",
       "3             2Nd Toll Gate, Lekki Expressway, Lekki   \n",
       "4            Victoria Arubieke, Lekki Phase 1, Lekki   \n",
       "\n",
       "                                             Address  \\\n",
       "0         Newly Renovated 4 Units of 3 Bedroom Flats   \n",
       "1   Furnished 3 bedroom Flat and apartment for le...   \n",
       "2                 4 BEDROOM DETACHED DUPLEX FOR RENT   \n",
       "3   Newly Built 4 Bedroom Semi - Detached Duplex ...   \n",
       "4   TASTEFULLY FINISHED FOUR BEDROOM DUPLEX WITH ...   \n",
       "\n",
       "                                            Info_URL Image4  \n",
       "0  https://www.privateproperty.com.ng/estate-agen...    NaN  \n",
       "1  https://www.privateproperty.com.ng/estate-agen...    NaN  \n",
       "2  https://www.privateproperty.com.ng/estate-agen...    NaN  \n",
       "3  https://www.privateproperty.com.ng/estate-agen...    NaN  \n",
       "4  https://www.privateproperty.com.ng/estate-agen...    NaN  "
      ]
     },
     "execution_count": 65,
     "metadata": {},
     "output_type": "execute_result"
    }
   ],
   "source": [
    "la3 = pd.read_csv('property.csv')\n",
    "la3.head(5)"
   ]
  },
  {
   "cell_type": "code",
   "execution_count": 66,
   "metadata": {},
   "outputs": [],
   "source": [
    "la3 = la3.drop(['Image', 'Image2', 'Image3', 'Price_URL', 'Info_URL', 'Image4'], axis = 'columns')"
   ]
  },
  {
   "cell_type": "code",
   "execution_count": 67,
   "metadata": {},
   "outputs": [
    {
     "data": {
      "text/html": [
       "<div>\n",
       "<style scoped>\n",
       "    .dataframe tbody tr th:only-of-type {\n",
       "        vertical-align: middle;\n",
       "    }\n",
       "\n",
       "    .dataframe tbody tr th {\n",
       "        vertical-align: top;\n",
       "    }\n",
       "\n",
       "    .dataframe thead th {\n",
       "        text-align: right;\n",
       "    }\n",
       "</style>\n",
       "<table border=\"1\" class=\"dataframe\">\n",
       "  <thead>\n",
       "    <tr style=\"text-align: right;\">\n",
       "      <th></th>\n",
       "      <th>Title_URL</th>\n",
       "      <th>Content</th>\n",
       "      <th>Content1</th>\n",
       "      <th>item</th>\n",
       "      <th>Price</th>\n",
       "      <th>hbeds</th>\n",
       "      <th>hbaths</th>\n",
       "      <th>hgarage</th>\n",
       "      <th>propertylocation</th>\n",
       "      <th>Address</th>\n",
       "    </tr>\n",
       "  </thead>\n",
       "  <tbody>\n",
       "    <tr>\n",
       "      <th>0</th>\n",
       "      <td>\\n12 Bedroom Office\\n</td>\n",
       "      <td>1</td>\n",
       "      <td>4</td>\n",
       "      <td>\\n*Newly Renovated and Very Spacious 4 Numbers...</td>\n",
       "      <td>N10,800,000,000 per year</td>\n",
       "      <td>12.0</td>\n",
       "      <td>12.0</td>\n",
       "      <td>NaN</td>\n",
       "      <td>Town Planning Estate, Ilupeju, Lagos., Ilupe...</td>\n",
       "      <td>Newly Renovated 4 Units of 3 Bedroom Flats</td>\n",
       "    </tr>\n",
       "    <tr>\n",
       "      <th>1</th>\n",
       "      <td>\\n3 Bedroom Flat &amp; Apartment\\n</td>\n",
       "      <td>1</td>\n",
       "      <td>4</td>\n",
       "      <td>\\nSpacious and beautifully finished and furnis...</td>\n",
       "      <td>N9,000,000 per year</td>\n",
       "      <td>3.0</td>\n",
       "      <td>2.0</td>\n",
       "      <td>NaN</td>\n",
       "      <td>Club Road Ikoyi, Ikoyi</td>\n",
       "      <td>Furnished 3 bedroom Flat and apartment for le...</td>\n",
       "    </tr>\n",
       "    <tr>\n",
       "      <th>2</th>\n",
       "      <td>\\n4 Bedroom Duplex\\n</td>\n",
       "      <td>1</td>\n",
       "      <td>4</td>\n",
       "      <td>\\n4 bedroom semi detached, fully detached hous...</td>\n",
       "      <td>N3,500,000 per year</td>\n",
       "      <td>4.0</td>\n",
       "      <td>4.0</td>\n",
       "      <td>3.0</td>\n",
       "      <td>Roxby Homes, Vgc, Ikota, Lekki</td>\n",
       "      <td>4 BEDROOM DETACHED DUPLEX FOR RENT</td>\n",
       "    </tr>\n",
       "  </tbody>\n",
       "</table>\n",
       "</div>"
      ],
      "text/plain": [
       "                        Title_URL  Content  Content1  \\\n",
       "0           \\n12 Bedroom Office\\n        1         4   \n",
       "1  \\n3 Bedroom Flat & Apartment\\n        1         4   \n",
       "2            \\n4 Bedroom Duplex\\n        1         4   \n",
       "\n",
       "                                                item  \\\n",
       "0  \\n*Newly Renovated and Very Spacious 4 Numbers...   \n",
       "1  \\nSpacious and beautifully finished and furnis...   \n",
       "2  \\n4 bedroom semi detached, fully detached hous...   \n",
       "\n",
       "                      Price  hbeds  hbaths  hgarage  \\\n",
       "0  N10,800,000,000 per year   12.0    12.0      NaN   \n",
       "1       N9,000,000 per year    3.0     2.0      NaN   \n",
       "2       N3,500,000 per year    4.0     4.0      3.0   \n",
       "\n",
       "                                    propertylocation  \\\n",
       "0    Town Planning Estate, Ilupeju, Lagos., Ilupe...   \n",
       "1                             Club Road Ikoyi, Ikoyi   \n",
       "2                     Roxby Homes, Vgc, Ikota, Lekki   \n",
       "\n",
       "                                             Address  \n",
       "0         Newly Renovated 4 Units of 3 Bedroom Flats  \n",
       "1   Furnished 3 bedroom Flat and apartment for le...  \n",
       "2                 4 BEDROOM DETACHED DUPLEX FOR RENT  "
      ]
     },
     "execution_count": 67,
     "metadata": {},
     "output_type": "execute_result"
    }
   ],
   "source": [
    "la3.head(3)"
   ]
  },
  {
   "cell_type": "code",
   "execution_count": 68,
   "metadata": {},
   "outputs": [],
   "source": [
    "la3 = la3.drop(['Content', 'Content1'], axis = 'columns')"
   ]
  },
  {
   "cell_type": "code",
   "execution_count": 69,
   "metadata": {},
   "outputs": [],
   "source": [
    "la3 = la3.drop(['item', 'hgarage', 'Address'], axis = 'columns')"
   ]
  },
  {
   "cell_type": "code",
   "execution_count": 70,
   "metadata": {},
   "outputs": [
    {
     "data": {
      "text/html": [
       "<div>\n",
       "<style scoped>\n",
       "    .dataframe tbody tr th:only-of-type {\n",
       "        vertical-align: middle;\n",
       "    }\n",
       "\n",
       "    .dataframe tbody tr th {\n",
       "        vertical-align: top;\n",
       "    }\n",
       "\n",
       "    .dataframe thead th {\n",
       "        text-align: right;\n",
       "    }\n",
       "</style>\n",
       "<table border=\"1\" class=\"dataframe\">\n",
       "  <thead>\n",
       "    <tr style=\"text-align: right;\">\n",
       "      <th></th>\n",
       "      <th>Title_URL</th>\n",
       "      <th>Price</th>\n",
       "      <th>hbeds</th>\n",
       "      <th>hbaths</th>\n",
       "      <th>propertylocation</th>\n",
       "    </tr>\n",
       "  </thead>\n",
       "  <tbody>\n",
       "    <tr>\n",
       "      <th>0</th>\n",
       "      <td>\\n12 Bedroom Office\\n</td>\n",
       "      <td>N10,800,000,000 per year</td>\n",
       "      <td>12.0</td>\n",
       "      <td>12.0</td>\n",
       "      <td>Town Planning Estate, Ilupeju, Lagos., Ilupe...</td>\n",
       "    </tr>\n",
       "    <tr>\n",
       "      <th>1</th>\n",
       "      <td>\\n3 Bedroom Flat &amp; Apartment\\n</td>\n",
       "      <td>N9,000,000 per year</td>\n",
       "      <td>3.0</td>\n",
       "      <td>2.0</td>\n",
       "      <td>Club Road Ikoyi, Ikoyi</td>\n",
       "    </tr>\n",
       "    <tr>\n",
       "      <th>2</th>\n",
       "      <td>\\n4 Bedroom Duplex\\n</td>\n",
       "      <td>N3,500,000 per year</td>\n",
       "      <td>4.0</td>\n",
       "      <td>4.0</td>\n",
       "      <td>Roxby Homes, Vgc, Ikota, Lekki</td>\n",
       "    </tr>\n",
       "    <tr>\n",
       "      <th>3</th>\n",
       "      <td>\\n4 Bedroom Duplex\\n</td>\n",
       "      <td>N3,600,000 per year</td>\n",
       "      <td>4.0</td>\n",
       "      <td>4.0</td>\n",
       "      <td>2Nd Toll Gate, Lekki Expressway, Lekki</td>\n",
       "    </tr>\n",
       "    <tr>\n",
       "      <th>4</th>\n",
       "      <td>\\n4 Bedroom Duplex\\n</td>\n",
       "      <td>N4,500,000 per year</td>\n",
       "      <td>4.0</td>\n",
       "      <td>4.0</td>\n",
       "      <td>Victoria Arubieke, Lekki Phase 1, Lekki</td>\n",
       "    </tr>\n",
       "  </tbody>\n",
       "</table>\n",
       "</div>"
      ],
      "text/plain": [
       "                        Title_URL                     Price  hbeds  hbaths  \\\n",
       "0           \\n12 Bedroom Office\\n  N10,800,000,000 per year   12.0    12.0   \n",
       "1  \\n3 Bedroom Flat & Apartment\\n       N9,000,000 per year    3.0     2.0   \n",
       "2            \\n4 Bedroom Duplex\\n       N3,500,000 per year    4.0     4.0   \n",
       "3            \\n4 Bedroom Duplex\\n       N3,600,000 per year    4.0     4.0   \n",
       "4            \\n4 Bedroom Duplex\\n       N4,500,000 per year    4.0     4.0   \n",
       "\n",
       "                                    propertylocation  \n",
       "0    Town Planning Estate, Ilupeju, Lagos., Ilupe...  \n",
       "1                             Club Road Ikoyi, Ikoyi  \n",
       "2                     Roxby Homes, Vgc, Ikota, Lekki  \n",
       "3             2Nd Toll Gate, Lekki Expressway, Lekki  \n",
       "4            Victoria Arubieke, Lekki Phase 1, Lekki  "
      ]
     },
     "execution_count": 70,
     "metadata": {},
     "output_type": "execute_result"
    }
   ],
   "source": [
    "la3.head()"
   ]
  },
  {
   "cell_type": "code",
   "execution_count": 71,
   "metadata": {},
   "outputs": [],
   "source": [
    "la3[['Title', 'Price', 'Location', 'Beds', 'Baths']] = la3[['Title_URL', 'Price', 'propertylocation','hbeds','hbaths']]"
   ]
  },
  {
   "cell_type": "code",
   "execution_count": 72,
   "metadata": {},
   "outputs": [
    {
     "data": {
      "text/html": [
       "<div>\n",
       "<style scoped>\n",
       "    .dataframe tbody tr th:only-of-type {\n",
       "        vertical-align: middle;\n",
       "    }\n",
       "\n",
       "    .dataframe tbody tr th {\n",
       "        vertical-align: top;\n",
       "    }\n",
       "\n",
       "    .dataframe thead th {\n",
       "        text-align: right;\n",
       "    }\n",
       "</style>\n",
       "<table border=\"1\" class=\"dataframe\">\n",
       "  <thead>\n",
       "    <tr style=\"text-align: right;\">\n",
       "      <th></th>\n",
       "      <th>Title_URL</th>\n",
       "      <th>Price</th>\n",
       "      <th>hbeds</th>\n",
       "      <th>hbaths</th>\n",
       "      <th>propertylocation</th>\n",
       "      <th>Title</th>\n",
       "      <th>Location</th>\n",
       "      <th>Beds</th>\n",
       "      <th>Baths</th>\n",
       "    </tr>\n",
       "  </thead>\n",
       "  <tbody>\n",
       "    <tr>\n",
       "      <th>0</th>\n",
       "      <td>\\n12 Bedroom Office\\n</td>\n",
       "      <td>N10,800,000,000 per year</td>\n",
       "      <td>12.0</td>\n",
       "      <td>12.0</td>\n",
       "      <td>Town Planning Estate, Ilupeju, Lagos., Ilupe...</td>\n",
       "      <td>\\n12 Bedroom Office\\n</td>\n",
       "      <td>Town Planning Estate, Ilupeju, Lagos., Ilupe...</td>\n",
       "      <td>12.0</td>\n",
       "      <td>12.0</td>\n",
       "    </tr>\n",
       "    <tr>\n",
       "      <th>1</th>\n",
       "      <td>\\n3 Bedroom Flat &amp; Apartment\\n</td>\n",
       "      <td>N9,000,000 per year</td>\n",
       "      <td>3.0</td>\n",
       "      <td>2.0</td>\n",
       "      <td>Club Road Ikoyi, Ikoyi</td>\n",
       "      <td>\\n3 Bedroom Flat &amp; Apartment\\n</td>\n",
       "      <td>Club Road Ikoyi, Ikoyi</td>\n",
       "      <td>3.0</td>\n",
       "      <td>2.0</td>\n",
       "    </tr>\n",
       "    <tr>\n",
       "      <th>2</th>\n",
       "      <td>\\n4 Bedroom Duplex\\n</td>\n",
       "      <td>N3,500,000 per year</td>\n",
       "      <td>4.0</td>\n",
       "      <td>4.0</td>\n",
       "      <td>Roxby Homes, Vgc, Ikota, Lekki</td>\n",
       "      <td>\\n4 Bedroom Duplex\\n</td>\n",
       "      <td>Roxby Homes, Vgc, Ikota, Lekki</td>\n",
       "      <td>4.0</td>\n",
       "      <td>4.0</td>\n",
       "    </tr>\n",
       "  </tbody>\n",
       "</table>\n",
       "</div>"
      ],
      "text/plain": [
       "                        Title_URL                     Price  hbeds  hbaths  \\\n",
       "0           \\n12 Bedroom Office\\n  N10,800,000,000 per year   12.0    12.0   \n",
       "1  \\n3 Bedroom Flat & Apartment\\n       N9,000,000 per year    3.0     2.0   \n",
       "2            \\n4 Bedroom Duplex\\n       N3,500,000 per year    4.0     4.0   \n",
       "\n",
       "                                    propertylocation  \\\n",
       "0    Town Planning Estate, Ilupeju, Lagos., Ilupe...   \n",
       "1                             Club Road Ikoyi, Ikoyi   \n",
       "2                     Roxby Homes, Vgc, Ikota, Lekki   \n",
       "\n",
       "                            Title  \\\n",
       "0           \\n12 Bedroom Office\\n   \n",
       "1  \\n3 Bedroom Flat & Apartment\\n   \n",
       "2            \\n4 Bedroom Duplex\\n   \n",
       "\n",
       "                                            Location  Beds  Baths  \n",
       "0    Town Planning Estate, Ilupeju, Lagos., Ilupe...  12.0   12.0  \n",
       "1                             Club Road Ikoyi, Ikoyi   3.0    2.0  \n",
       "2                     Roxby Homes, Vgc, Ikota, Lekki   4.0    4.0  "
      ]
     },
     "execution_count": 72,
     "metadata": {},
     "output_type": "execute_result"
    }
   ],
   "source": [
    "la3.head(3)"
   ]
  },
  {
   "cell_type": "code",
   "execution_count": 73,
   "metadata": {},
   "outputs": [],
   "source": [
    "la3 = la3.drop(['Title_URL', 'propertylocation','hbeds','hbaths'], axis = 'columns')"
   ]
  },
  {
   "cell_type": "code",
   "execution_count": 74,
   "metadata": {
    "scrolled": true
   },
   "outputs": [
    {
     "data": {
      "text/html": [
       "<div>\n",
       "<style scoped>\n",
       "    .dataframe tbody tr th:only-of-type {\n",
       "        vertical-align: middle;\n",
       "    }\n",
       "\n",
       "    .dataframe tbody tr th {\n",
       "        vertical-align: top;\n",
       "    }\n",
       "\n",
       "    .dataframe thead th {\n",
       "        text-align: right;\n",
       "    }\n",
       "</style>\n",
       "<table border=\"1\" class=\"dataframe\">\n",
       "  <thead>\n",
       "    <tr style=\"text-align: right;\">\n",
       "      <th></th>\n",
       "      <th>Price</th>\n",
       "      <th>Title</th>\n",
       "      <th>Location</th>\n",
       "      <th>Beds</th>\n",
       "      <th>Baths</th>\n",
       "    </tr>\n",
       "  </thead>\n",
       "  <tbody>\n",
       "    <tr>\n",
       "      <th>0</th>\n",
       "      <td>N10,800,000,000 per year</td>\n",
       "      <td>\\n12 Bedroom Office\\n</td>\n",
       "      <td>Town Planning Estate, Ilupeju, Lagos., Ilupe...</td>\n",
       "      <td>12.0</td>\n",
       "      <td>12.0</td>\n",
       "    </tr>\n",
       "    <tr>\n",
       "      <th>1</th>\n",
       "      <td>N9,000,000 per year</td>\n",
       "      <td>\\n3 Bedroom Flat &amp; Apartment\\n</td>\n",
       "      <td>Club Road Ikoyi, Ikoyi</td>\n",
       "      <td>3.0</td>\n",
       "      <td>2.0</td>\n",
       "    </tr>\n",
       "    <tr>\n",
       "      <th>2</th>\n",
       "      <td>N3,500,000 per year</td>\n",
       "      <td>\\n4 Bedroom Duplex\\n</td>\n",
       "      <td>Roxby Homes, Vgc, Ikota, Lekki</td>\n",
       "      <td>4.0</td>\n",
       "      <td>4.0</td>\n",
       "    </tr>\n",
       "  </tbody>\n",
       "</table>\n",
       "</div>"
      ],
      "text/plain": [
       "                      Price                           Title  \\\n",
       "0  N10,800,000,000 per year           \\n12 Bedroom Office\\n   \n",
       "1       N9,000,000 per year  \\n3 Bedroom Flat & Apartment\\n   \n",
       "2       N3,500,000 per year            \\n4 Bedroom Duplex\\n   \n",
       "\n",
       "                                            Location  Beds  Baths  \n",
       "0    Town Planning Estate, Ilupeju, Lagos., Ilupe...  12.0   12.0  \n",
       "1                             Club Road Ikoyi, Ikoyi   3.0    2.0  \n",
       "2                     Roxby Homes, Vgc, Ikota, Lekki   4.0    4.0  "
      ]
     },
     "execution_count": 74,
     "metadata": {},
     "output_type": "execute_result"
    }
   ],
   "source": [
    "la3.head(3)"
   ]
  },
  {
   "cell_type": "code",
   "execution_count": 75,
   "metadata": {},
   "outputs": [
    {
     "data": {
      "text/plain": [
       "Price       0\n",
       "Title       0\n",
       "Location    0\n",
       "Beds        2\n",
       "Baths       2\n",
       "dtype: int64"
      ]
     },
     "execution_count": 75,
     "metadata": {},
     "output_type": "execute_result"
    }
   ],
   "source": [
    "la3.isna().sum()"
   ]
  },
  {
   "cell_type": "code",
   "execution_count": 76,
   "metadata": {},
   "outputs": [
    {
     "data": {
      "text/html": [
       "<div>\n",
       "<style scoped>\n",
       "    .dataframe tbody tr th:only-of-type {\n",
       "        vertical-align: middle;\n",
       "    }\n",
       "\n",
       "    .dataframe tbody tr th {\n",
       "        vertical-align: top;\n",
       "    }\n",
       "\n",
       "    .dataframe thead th {\n",
       "        text-align: right;\n",
       "    }\n",
       "</style>\n",
       "<table border=\"1\" class=\"dataframe\">\n",
       "  <thead>\n",
       "    <tr style=\"text-align: right;\">\n",
       "      <th></th>\n",
       "      <th>Price</th>\n",
       "      <th>Title</th>\n",
       "      <th>Location</th>\n",
       "      <th>Beds</th>\n",
       "      <th>Baths</th>\n",
       "    </tr>\n",
       "  </thead>\n",
       "  <tbody>\n",
       "    <tr>\n",
       "      <th>23</th>\n",
       "      <td>N95,000 per year</td>\n",
       "      <td>\\nOffice\\n</td>\n",
       "      <td>Victoria Island</td>\n",
       "      <td>NaN</td>\n",
       "      <td>NaN</td>\n",
       "    </tr>\n",
       "    <tr>\n",
       "      <th>180</th>\n",
       "      <td>N250,000,000 per year</td>\n",
       "      <td>\\nHotel\\n</td>\n",
       "      <td>Off Allen Avenue, Allen Avenue, Ikeja</td>\n",
       "      <td>NaN</td>\n",
       "      <td>NaN</td>\n",
       "    </tr>\n",
       "  </tbody>\n",
       "</table>\n",
       "</div>"
      ],
      "text/plain": [
       "                     Price       Title  \\\n",
       "23        N95,000 per year  \\nOffice\\n   \n",
       "180  N250,000,000 per year   \\nHotel\\n   \n",
       "\n",
       "                                    Location  Beds  Baths  \n",
       "23                           Victoria Island   NaN    NaN  \n",
       "180    Off Allen Avenue, Allen Avenue, Ikeja   NaN    NaN  "
      ]
     },
     "execution_count": 76,
     "metadata": {},
     "output_type": "execute_result"
    }
   ],
   "source": [
    "la3[la3['Beds'].isna()]"
   ]
  },
  {
   "cell_type": "code",
   "execution_count": 77,
   "metadata": {},
   "outputs": [],
   "source": [
    "la3 = la3.dropna()"
   ]
  },
  {
   "cell_type": "code",
   "execution_count": 78,
   "metadata": {
    "scrolled": true
   },
   "outputs": [
    {
     "data": {
      "text/plain": [
       "Price       0\n",
       "Title       0\n",
       "Location    0\n",
       "Beds        0\n",
       "Baths       0\n",
       "dtype: int64"
      ]
     },
     "execution_count": 78,
     "metadata": {},
     "output_type": "execute_result"
    }
   ],
   "source": [
    "la3.isna().sum()"
   ]
  },
  {
   "cell_type": "code",
   "execution_count": 79,
   "metadata": {
    "scrolled": false
   },
   "outputs": [
    {
     "data": {
      "text/plain": [
       "array(['\\n12 Bedroom Office\\n', '\\n3 Bedroom Flat & Apartment\\n',\n",
       "       '\\n4 Bedroom Duplex\\n', '\\n4 Bedroom Townhouse\\n',\n",
       "       '\\n3 Bedroom Townhouse\\n', '\\n3 Bedroom Terrace\\n',\n",
       "       '\\n2 Bedroom Flat & Apartment\\n', '\\n4 Bedroom Flat & Apartment\\n',\n",
       "       '\\n2 Bedroom Duplex\\n', '\\n5 Bedroom Duplex\\n',\n",
       "       '\\n5 Bedroom House\\n', '\\n4 Bedroom Terrace\\n',\n",
       "       '\\n3 Bedroom Duplex\\n', '\\n5 Bedroom Terrace\\n',\n",
       "       '\\n4 Bedroom Duplex\\n ', '\\n4 Bedroom House\\n',\n",
       "       '\\n3500000 Bedroom Duplex\\n', '\\n4 Bedroom Bungalow\\n',\n",
       "       '\\n3 Bedroom House\\n', '\\n 4 Bedroom Terrace\\n',\n",
       "       '\\n 4 Bedroom Duplex\\n'], dtype=object)"
      ]
     },
     "execution_count": 79,
     "metadata": {},
     "output_type": "execute_result"
    }
   ],
   "source": [
    "la3['Title'].unique()"
   ]
  },
  {
   "cell_type": "code",
   "execution_count": 80,
   "metadata": {},
   "outputs": [
    {
     "data": {
      "text/plain": [
       "array(['N10,800,000,000 per year', 'N9,000,000 per year',\n",
       "       'N3,500,000 per year', 'N3,600,000 per year',\n",
       "       'N4,500,000 per year', 'N5,500,000 per year',\n",
       "       'N6,000,000 per year', 'N8,000,000 per year',\n",
       "       'N2,500,000 per year', 'N15,000,000 per year',\n",
       "       'N3,000,000 per year', 'N2,000,000 per year',\n",
       "       'N4,200,000 per year', 'N25,000,000 per year',\n",
       "       'N3,200,000 per year', 'N5,000,000 per year',\n",
       "       'N2,750,000 per year', 'N3,800,000 per year',\n",
       "       'N4,000,000 per year', 'N22,000,000 per year',\n",
       "       'N16,000,000 per year', 'N600,000 per year',\n",
       "       'N12,000,000 per year', 'N1,000,000 per year',\n",
       "       'N1,100,000 per year', 'N6,500,000 per year',\n",
       "       'N2,200,000 per year', 'N10,000,000 per year',\n",
       "       'N1,600,000 per year', 'N1,640,000 per year',\n",
       "       'N3,700,000 per year', 'N35,000,000 per year',\n",
       "       'N7,000,000 per year', 'N13,000,000 per year',\n",
       "       'N24,000,000 per year', 'N3,300,000 per year',\n",
       "       'N55,000,000 per year', 'N2,800,000 per year',\n",
       "       'N2,600,000 per year', 'N2,300,000 per year', 'N700,000 per year',\n",
       "       'N1,300,000 per year', 'N900,000 per year', 'N2,700,000 per year',\n",
       "       'N1,500,000 per year'], dtype=object)"
      ]
     },
     "execution_count": 80,
     "metadata": {},
     "output_type": "execute_result"
    }
   ],
   "source": [
    "la3['Price'].unique()"
   ]
  },
  {
   "cell_type": "code",
   "execution_count": 81,
   "metadata": {},
   "outputs": [],
   "source": [
    "def price(x):\n",
    "    a = x.split()\n",
    "    b = a[0]\n",
    "    c = b.split(',')\n",
    "    d = ''\n",
    "    for i in range(len(c)):\n",
    "        d += c[i]\n",
    "    e = list(d)[1:]\n",
    "    f =''\n",
    "    for i in range(len(e)):\n",
    "        f += e[i]\n",
    "    return f"
   ]
  },
  {
   "cell_type": "code",
   "execution_count": 82,
   "metadata": {},
   "outputs": [
    {
     "data": {
      "text/plain": [
       "'2700000'"
      ]
     },
     "execution_count": 82,
     "metadata": {},
     "output_type": "execute_result"
    }
   ],
   "source": [
    "price('N2,700,000 per year')"
   ]
  },
  {
   "cell_type": "code",
   "execution_count": 83,
   "metadata": {},
   "outputs": [],
   "source": [
    "la3['Price'] = la3['Price'].apply(price)"
   ]
  },
  {
   "cell_type": "code",
   "execution_count": 84,
   "metadata": {},
   "outputs": [
    {
     "data": {
      "text/plain": [
       "array(['10800000000', '9000000', '3500000', '3600000', '4500000',\n",
       "       '5500000', '6000000', '8000000', '2500000', '15000000', '3000000',\n",
       "       '2000000', '4200000', '25000000', '3200000', '5000000', '2750000',\n",
       "       '3800000', '4000000', '22000000', '16000000', '600000', '12000000',\n",
       "       '1000000', '1100000', '6500000', '2200000', '10000000', '1600000',\n",
       "       '1640000', '3700000', '35000000', '7000000', '13000000',\n",
       "       '24000000', '3300000', '55000000', '2800000', '2600000', '2300000',\n",
       "       '700000', '1300000', '900000', '2700000', '1500000'], dtype=object)"
      ]
     },
     "execution_count": 84,
     "metadata": {},
     "output_type": "execute_result"
    }
   ],
   "source": [
    "la3['Price'].unique()"
   ]
  },
  {
   "cell_type": "code",
   "execution_count": 85,
   "metadata": {},
   "outputs": [
    {
     "data": {
      "text/html": [
       "<div>\n",
       "<style scoped>\n",
       "    .dataframe tbody tr th:only-of-type {\n",
       "        vertical-align: middle;\n",
       "    }\n",
       "\n",
       "    .dataframe tbody tr th {\n",
       "        vertical-align: top;\n",
       "    }\n",
       "\n",
       "    .dataframe thead th {\n",
       "        text-align: right;\n",
       "    }\n",
       "</style>\n",
       "<table border=\"1\" class=\"dataframe\">\n",
       "  <thead>\n",
       "    <tr style=\"text-align: right;\">\n",
       "      <th></th>\n",
       "      <th>Price</th>\n",
       "      <th>Title</th>\n",
       "      <th>Location</th>\n",
       "      <th>Beds</th>\n",
       "      <th>Baths</th>\n",
       "    </tr>\n",
       "  </thead>\n",
       "  <tbody>\n",
       "    <tr>\n",
       "      <th>0</th>\n",
       "      <td>10800000000</td>\n",
       "      <td>\\n12 Bedroom Office\\n</td>\n",
       "      <td>Town Planning Estate, Ilupeju, Lagos., Ilupe...</td>\n",
       "      <td>12.0</td>\n",
       "      <td>12.0</td>\n",
       "    </tr>\n",
       "    <tr>\n",
       "      <th>1</th>\n",
       "      <td>9000000</td>\n",
       "      <td>\\n3 Bedroom Flat &amp; Apartment\\n</td>\n",
       "      <td>Club Road Ikoyi, Ikoyi</td>\n",
       "      <td>3.0</td>\n",
       "      <td>2.0</td>\n",
       "    </tr>\n",
       "    <tr>\n",
       "      <th>2</th>\n",
       "      <td>3500000</td>\n",
       "      <td>\\n4 Bedroom Duplex\\n</td>\n",
       "      <td>Roxby Homes, Vgc, Ikota, Lekki</td>\n",
       "      <td>4.0</td>\n",
       "      <td>4.0</td>\n",
       "    </tr>\n",
       "    <tr>\n",
       "      <th>3</th>\n",
       "      <td>3600000</td>\n",
       "      <td>\\n4 Bedroom Duplex\\n</td>\n",
       "      <td>2Nd Toll Gate, Lekki Expressway, Lekki</td>\n",
       "      <td>4.0</td>\n",
       "      <td>4.0</td>\n",
       "    </tr>\n",
       "    <tr>\n",
       "      <th>4</th>\n",
       "      <td>4500000</td>\n",
       "      <td>\\n4 Bedroom Duplex\\n</td>\n",
       "      <td>Victoria Arubieke, Lekki Phase 1, Lekki</td>\n",
       "      <td>4.0</td>\n",
       "      <td>4.0</td>\n",
       "    </tr>\n",
       "  </tbody>\n",
       "</table>\n",
       "</div>"
      ],
      "text/plain": [
       "         Price                           Title  \\\n",
       "0  10800000000           \\n12 Bedroom Office\\n   \n",
       "1      9000000  \\n3 Bedroom Flat & Apartment\\n   \n",
       "2      3500000            \\n4 Bedroom Duplex\\n   \n",
       "3      3600000            \\n4 Bedroom Duplex\\n   \n",
       "4      4500000            \\n4 Bedroom Duplex\\n   \n",
       "\n",
       "                                            Location  Beds  Baths  \n",
       "0    Town Planning Estate, Ilupeju, Lagos., Ilupe...  12.0   12.0  \n",
       "1                             Club Road Ikoyi, Ikoyi   3.0    2.0  \n",
       "2                     Roxby Homes, Vgc, Ikota, Lekki   4.0    4.0  \n",
       "3             2Nd Toll Gate, Lekki Expressway, Lekki   4.0    4.0  \n",
       "4            Victoria Arubieke, Lekki Phase 1, Lekki   4.0    4.0  "
      ]
     },
     "execution_count": 85,
     "metadata": {},
     "output_type": "execute_result"
    }
   ],
   "source": [
    "la3.head(5)"
   ]
  },
  {
   "cell_type": "code",
   "execution_count": 86,
   "metadata": {
    "scrolled": false
   },
   "outputs": [
    {
     "data": {
      "text/plain": [
       "array(['  Town Planning Estate, Ilupeju, Lagos., Ilupeju, Ikorodu Road',\n",
       "       '  Club Road Ikoyi, Ikoyi', '  Roxby Homes, Vgc, Ikota, Lekki',\n",
       "       '  2Nd Toll Gate, Lekki Expressway, Lekki',\n",
       "       '  Victoria Arubieke, Lekki Phase 1, Lekki',\n",
       "       '  Off Audu Epkeka, Lekki Phase 1, Lekki',\n",
       "       '  Ikate, Ikate Elegushi, Lekki', '  Ikoyi',\n",
       "       '  Orchid Road, Lekki 2Nd Toll Gate, Lekki, Chevron Drive, Lekki',\n",
       "       '  Ikota, Lekki', '  Old Ikoyi , Ikoyi',\n",
       "       '  2Nd Toll Gate , Lekki Expressway, Lekki',\n",
       "       '  Within Sangotedo Shop Rite , Sangotedo, Ajah',\n",
       "       '  Westend Estate , Ikota, Lekki', '  Westend , Ikota, Lekki',\n",
       "       '  Ocean Parade, Banana Island, Banana Island, Ikoyi',\n",
       "       '  Banana Island Road, Banana Island, Ikoyi',\n",
       "       '  Bode Thomas, Surulere', '  Ologolo, Lekki',\n",
       "       '  Osapa London , Osapa, Lekki', '  Idado, Lekki',\n",
       "       '  Osapa, Lekki', '  2Nd Toll Gate, Chevron Drive, Lekki',\n",
       "       '  Kingsbay Estate , Ikota, Lekki',\n",
       "       '  Osapa London Estate, Osapa, Lekki', '  Banana Island, Ikoyi',\n",
       "       '  Banana Island Estate, Ikoyi',\n",
       "       '  4Th Avenue, Banana Island, Ikoyi',\n",
       "       '  Orchid Road, Lafiaji, Lekki',\n",
       "       '  Chois Gardens Estate, Abijo, Abijo, Ajah',\n",
       "       '  Tony Azuya, Jakande, Lekki', '  Badore, Ajah',\n",
       "       '  Osborne, Ikoyi', '  Chevron , Chevron Drive, Lekki',\n",
       "       '  Chevron, Chevron Drive, Lekki', '  Lekki Phase 1, Lekki',\n",
       "       '  Osapa London, Osapa, Lekki', '  Phase 1 , Lekki Phase 1, Lekki',\n",
       "       '  Close To The Main Gate, Lekki Phase 1, Lekki',\n",
       "       '  Maroko, Ikoyi',\n",
       "       '  World Oil Ilasan,Lekki, Lekki Phase 1, Lekki',\n",
       "       '  Oniru, Victoria Island', '  Ikota Villa, Ikota, Lekki',\n",
       "       '  Oral Estate, Ikota, Lekki', '  Oral Estate , Ikota, Lekki',\n",
       "       '  Ikota Lekki, Ikota, Lekki', '  Orchid , Ikota, Lekki',\n",
       "       '  Ikota Estate , Ikota, Lekki',\n",
       "       '  Ochid Road Lafiaji, Lafiaji, Lekki',\n",
       "       '  Ikate Right, Ikate Elegushi, Lekki',\n",
       "       '  Lekki County Estates, Ikota, Lekki',\n",
       "       '  Lekki County, Ikota, Lekki',\n",
       "       '  Lekki County Homes Mega Mound Estate, Ikota, Lekki',\n",
       "       '  Chevron Conservation Lekki Lagos , Lafiaji, Lekki',\n",
       "       '  Napier Gardens, Victoria Garden City, Lekki',\n",
       "       '  Ikota Villa Estate, Lekki Phase 2, Lekki',\n",
       "       '  By Second Toll Gate, Lekki Expressway, Lekki',\n",
       "       '  Orchid Road, Lekki Expressway, Lekki',\n",
       "       '  Beechwood Estate , Ibeju Lekki, Ajah',\n",
       "       '  Chevron Alternative Route, Lekki Phase 2, Lekki',\n",
       "       '  Thomos, Ajah', '  Abraham Adesanya, Ajah',\n",
       "       '  Chevron Alternative , Chevron Drive, Lekki',\n",
       "       '  Chevron Alternative Route , Chevron Drive, Lekki',\n",
       "       '  Orchid Road, Chevron, Chevron Drive, Lekki',\n",
       "       '  Carlton Gate Estate, Chevron Drive, Lekki',\n",
       "       '  Paradise Estate, Chevron Drive, Lekki',\n",
       "       '  Lekki 2Nd Toll Gate Off Orchid Road, Chevron Drive, Lekki',\n",
       "       '  Chevyview Estate , Chevron Drive, Lekki',\n",
       "       '  Chevyview Estate, Chevron Drive, Lekki',\n",
       "       '  Chevron Estate , Chevron Drive, Lekki',\n",
       "       '  Chevron Tollgate, Chevron Drive, Lekki',\n",
       "       '  Oral Estate, Chevron Drive, Lekki',\n",
       "       '  Chevron Alternative Route., Chevron Drive, Lekki',\n",
       "       '  Chevron Alternative Drive, Chevron Drive, Lekki',\n",
       "       '  Alt.Route, Chevron Drive, Lekki',\n",
       "       '  Off Orchid Road , Chevron Drive, Lekki',\n",
       "       '  Chevy View Estate , Chevron Drive, Lekki',\n",
       "       '  Oral Estate , Chevron Drive, Lekki',\n",
       "       '  Lekki Right, Lekki Expressway, Lekki',\n",
       "       '  Off Ahmadu Bello Way, Victoria Island',\n",
       "       '  Thomas Estate , Sangotedo, Ajah',\n",
       "       '  Ikeja Gra, Ikeja G.R.A, Ikeja',\n",
       "       '  Abiola Court, Ikate Elegushi, Lekki', '  Agungi, Lekki',\n",
       "       '  Orchid Road, Ikota, Lekki', '  Lekki, Lekki Phase 1, Lekki',\n",
       "       '  Palace Road, Oniru, Victoria Island',\n",
       "       '  Parkview Estate, Ikoyi',\n",
       "       '  Chevron Alternative, Chevron Drive, Lekki',\n",
       "       '  Old Ikoyi, Ikoyi', '  Lafiaji, Lekki',\n",
       "       '  Off Bourdillon, Ikoyi', '  Chevron Drive, Lekki',\n",
       "       '  Orchid Road, Chevron Drive, Lekki',\n",
       "       '  Chevron Alternatives , Chevron Drive, Lekki',\n",
       "       '  Orchid Road , Ikota, Lekki',\n",
       "       '  Off Admiralty Road, Lekki Phase 1, Lekki',\n",
       "       '  Westerneend , Ikota, Lekki', '  Oral , Ikota, Lekki',\n",
       "       '  Chevy View , Chevron Drive, Lekki', '  Ikota Gra, Ikota, Lekki',\n",
       "       '  Megamound, Ikota, Lekki',\n",
       "       '  Bera Estate , Chevron Drive, Lekki',\n",
       "       '  Mega Mound, Ikota, Lekki', '  Ikota Villa Estate, Ikota, Lekki',\n",
       "       '  Bera Estates , Chevron Drive, Lekki',\n",
       "       '  Megamond Estate, Ikota, Lekki',\n",
       "       '  Lagoon View Estate, Chevron Drive, Lekki',\n",
       "       '  Idado Estate, Idado, Lekki', '  Gra Ikeja, Ikeja G.R.A, Ikeja',\n",
       "       '  Albion Line, Lekki Expressway, Lekki',\n",
       "       '  Alhaji Maisinga Close, Off 25, Ladoke Akintola, Ikeja G.R.A, Ikeja',\n",
       "       '  Osborne Phase 1, Ikoyi', '  Bank Road, Ikoyi',\n",
       "       '  Bera, Chevron Drive, Lekki',\n",
       "       '  Majek 1St Gate, Sangotedo, Ajah',\n",
       "       '  Opic Isheri North Gra, Magodo Isheri, Ikeja',\n",
       "       '  Ikota Estate, Ikota, Lekki',\n",
       "       '  Ikota Estate By Megachicken, Ikota, Lekki',\n",
       "       '  Victory Park Estate, Ikota, Lekki',\n",
       "       '  Eleganza Gardens, Opposite Victoria Garden City, Lekki Expressway, Lekki',\n",
       "       '  Safecourt Apartment , Ikate Elegushi, Lekki',\n",
       "       '  Monastery Road, Sangotedo, Ajah',\n",
       "       '  Orchid Road , Chevron Drive, Lekki', '  Ikate Elegushi, Lekki',\n",
       "       '  Oniru Estate, Oniru, Victoria Island',\n",
       "       '  Chevy-View Estate, Chevron Drive, Lekki',\n",
       "       '  Off Orchid Hotel Road, Lafiaji, Lekki',\n",
       "       '  Off Orchid Road,, Ikota, Lekki',\n",
       "       '  Westend Estate, Ikota, Lekki',\n",
       "       '  Westerneend Estate, Ikota, Lekki',\n",
       "       '  Orchid Road Lekki, Lafiaji, Lekki',\n",
       "       '  Vi, Oniru, Victoria Island', '  Road 7, Ikota, Lekki',\n",
       "       '  Chevron Alternative Lekki Lagos, Chevron Drive, Lekki',\n",
       "       '  Igbo- Efon, Igbo Efon, Lekki',\n",
       "       '  Lekki County Estate , Ikota, Lekki'], dtype=object)"
      ]
     },
     "execution_count": 86,
     "metadata": {},
     "output_type": "execute_result"
    }
   ],
   "source": [
    "la3['Location'].unique()"
   ]
  },
  {
   "cell_type": "code",
   "execution_count": 87,
   "metadata": {},
   "outputs": [],
   "source": [
    "def locate_val(x):\n",
    "    a = x.split(';')\n",
    "    b = a[-1]\n",
    "    c = b.split()\n",
    "    return c[-1]"
   ]
  },
  {
   "cell_type": "code",
   "execution_count": 88,
   "metadata": {},
   "outputs": [
    {
     "data": {
      "text/plain": [
       "'Lekki'"
      ]
     },
     "execution_count": 88,
     "metadata": {},
     "output_type": "execute_result"
    }
   ],
   "source": [
    "locate_val('Lekki County Estate , Ikota, Lekki')"
   ]
  },
  {
   "cell_type": "code",
   "execution_count": 89,
   "metadata": {},
   "outputs": [],
   "source": [
    "la3['Location'] = la3['Location'].apply(locate_val)"
   ]
  },
  {
   "cell_type": "code",
   "execution_count": 93,
   "metadata": {},
   "outputs": [
    {
     "data": {
      "text/plain": [
       "array(['Road', 'Ikoyi', 'Lekki', 'Ajah', 'Surulere', 'Island', 'Ikeja'],\n",
       "      dtype=object)"
      ]
     },
     "execution_count": 93,
     "metadata": {},
     "output_type": "execute_result"
    }
   ],
   "source": [
    "la3['Location'].unique()"
   ]
  },
  {
   "cell_type": "code",
   "execution_count": 94,
   "metadata": {},
   "outputs": [
    {
     "data": {
      "text/html": [
       "<div>\n",
       "<style scoped>\n",
       "    .dataframe tbody tr th:only-of-type {\n",
       "        vertical-align: middle;\n",
       "    }\n",
       "\n",
       "    .dataframe tbody tr th {\n",
       "        vertical-align: top;\n",
       "    }\n",
       "\n",
       "    .dataframe thead th {\n",
       "        text-align: right;\n",
       "    }\n",
       "</style>\n",
       "<table border=\"1\" class=\"dataframe\">\n",
       "  <thead>\n",
       "    <tr style=\"text-align: right;\">\n",
       "      <th></th>\n",
       "      <th>Price</th>\n",
       "      <th>Title</th>\n",
       "      <th>Location</th>\n",
       "      <th>Beds</th>\n",
       "      <th>Baths</th>\n",
       "    </tr>\n",
       "  </thead>\n",
       "  <tbody>\n",
       "    <tr>\n",
       "      <th>65</th>\n",
       "      <td>3000000</td>\n",
       "      <td>\\n2 Bedroom Flat &amp; Apartment\\n</td>\n",
       "      <td>Island</td>\n",
       "      <td>2.0</td>\n",
       "      <td>2.0</td>\n",
       "    </tr>\n",
       "    <tr>\n",
       "      <th>143</th>\n",
       "      <td>5000000</td>\n",
       "      <td>\\n4 Bedroom Terrace\\n</td>\n",
       "      <td>Island</td>\n",
       "      <td>4.0</td>\n",
       "      <td>5.0</td>\n",
       "    </tr>\n",
       "    <tr>\n",
       "      <th>154</th>\n",
       "      <td>4500000</td>\n",
       "      <td>\\n4 Bedroom Terrace\\n</td>\n",
       "      <td>Island</td>\n",
       "      <td>4.0</td>\n",
       "      <td>5.0</td>\n",
       "    </tr>\n",
       "    <tr>\n",
       "      <th>234</th>\n",
       "      <td>6000000</td>\n",
       "      <td>\\n3 Bedroom Flat &amp; Apartment\\n</td>\n",
       "      <td>Island</td>\n",
       "      <td>3.0</td>\n",
       "      <td>3.0</td>\n",
       "    </tr>\n",
       "    <tr>\n",
       "      <th>238</th>\n",
       "      <td>3000000</td>\n",
       "      <td>\\n2 Bedroom Flat &amp; Apartment\\n</td>\n",
       "      <td>Island</td>\n",
       "      <td>2.0</td>\n",
       "      <td>3.0</td>\n",
       "    </tr>\n",
       "    <tr>\n",
       "      <th>240</th>\n",
       "      <td>6000000</td>\n",
       "      <td>\\n3 Bedroom Flat &amp; Apartment\\n</td>\n",
       "      <td>Island</td>\n",
       "      <td>3.0</td>\n",
       "      <td>4.0</td>\n",
       "    </tr>\n",
       "    <tr>\n",
       "      <th>245</th>\n",
       "      <td>3500000</td>\n",
       "      <td>\\n3 Bedroom Flat &amp; Apartment\\n</td>\n",
       "      <td>Island</td>\n",
       "      <td>3.0</td>\n",
       "      <td>3.0</td>\n",
       "    </tr>\n",
       "    <tr>\n",
       "      <th>246</th>\n",
       "      <td>4000000</td>\n",
       "      <td>\\n3 Bedroom Flat &amp; Apartment\\n</td>\n",
       "      <td>Island</td>\n",
       "      <td>3.0</td>\n",
       "      <td>4.0</td>\n",
       "    </tr>\n",
       "    <tr>\n",
       "      <th>247</th>\n",
       "      <td>3000000</td>\n",
       "      <td>\\n3 Bedroom Flat &amp; Apartment\\n</td>\n",
       "      <td>Island</td>\n",
       "      <td>3.0</td>\n",
       "      <td>4.0</td>\n",
       "    </tr>\n",
       "    <tr>\n",
       "      <th>253</th>\n",
       "      <td>3500000</td>\n",
       "      <td>\\n3 Bedroom Flat &amp; Apartment\\n</td>\n",
       "      <td>Island</td>\n",
       "      <td>3.0</td>\n",
       "      <td>3.0</td>\n",
       "    </tr>\n",
       "    <tr>\n",
       "      <th>269</th>\n",
       "      <td>10000000</td>\n",
       "      <td>\\n3 Bedroom Flat &amp; Apartment\\n</td>\n",
       "      <td>Island</td>\n",
       "      <td>3.0</td>\n",
       "      <td>4.0</td>\n",
       "    </tr>\n",
       "  </tbody>\n",
       "</table>\n",
       "</div>"
      ],
      "text/plain": [
       "        Price                           Title Location  Beds  Baths\n",
       "65    3000000  \\n2 Bedroom Flat & Apartment\\n   Island   2.0    2.0\n",
       "143   5000000           \\n4 Bedroom Terrace\\n   Island   4.0    5.0\n",
       "154   4500000           \\n4 Bedroom Terrace\\n   Island   4.0    5.0\n",
       "234   6000000  \\n3 Bedroom Flat & Apartment\\n   Island   3.0    3.0\n",
       "238   3000000  \\n2 Bedroom Flat & Apartment\\n   Island   2.0    3.0\n",
       "240   6000000  \\n3 Bedroom Flat & Apartment\\n   Island   3.0    4.0\n",
       "245   3500000  \\n3 Bedroom Flat & Apartment\\n   Island   3.0    3.0\n",
       "246   4000000  \\n3 Bedroom Flat & Apartment\\n   Island   3.0    4.0\n",
       "247   3000000  \\n3 Bedroom Flat & Apartment\\n   Island   3.0    4.0\n",
       "253   3500000  \\n3 Bedroom Flat & Apartment\\n   Island   3.0    3.0\n",
       "269  10000000  \\n3 Bedroom Flat & Apartment\\n   Island   3.0    4.0"
      ]
     },
     "execution_count": 94,
     "metadata": {},
     "output_type": "execute_result"
    }
   ],
   "source": [
    "la3[la3['Location']== 'Island']"
   ]
  },
  {
   "cell_type": "code",
   "execution_count": 109,
   "metadata": {},
   "outputs": [
    {
     "data": {
      "text/html": [
       "<div>\n",
       "<style scoped>\n",
       "    .dataframe tbody tr th:only-of-type {\n",
       "        vertical-align: middle;\n",
       "    }\n",
       "\n",
       "    .dataframe tbody tr th {\n",
       "        vertical-align: top;\n",
       "    }\n",
       "\n",
       "    .dataframe thead th {\n",
       "        text-align: right;\n",
       "    }\n",
       "</style>\n",
       "<table border=\"1\" class=\"dataframe\">\n",
       "  <thead>\n",
       "    <tr style=\"text-align: right;\">\n",
       "      <th></th>\n",
       "      <th>Price</th>\n",
       "      <th>Title</th>\n",
       "      <th>Location</th>\n",
       "      <th>Beds</th>\n",
       "      <th>Baths</th>\n",
       "    </tr>\n",
       "  </thead>\n",
       "  <tbody>\n",
       "    <tr>\n",
       "      <th>0</th>\n",
       "      <td>10800000000</td>\n",
       "      <td>\\n12 Bedroom Office\\n</td>\n",
       "      <td>Road</td>\n",
       "      <td>12</td>\n",
       "      <td>12</td>\n",
       "    </tr>\n",
       "  </tbody>\n",
       "</table>\n",
       "</div>"
      ],
      "text/plain": [
       "         Price                  Title Location  Beds  Baths\n",
       "0  10800000000  \\n12 Bedroom Office\\n     Road    12     12"
      ]
     },
     "execution_count": 109,
     "metadata": {},
     "output_type": "execute_result"
    }
   ],
   "source": [
    "la3[la3['Location']== 'Road']"
   ]
  },
  {
   "cell_type": "code",
   "execution_count": 110,
   "metadata": {},
   "outputs": [],
   "source": [
    "la3.loc[0, 'Location'] = 'Ikorodu'"
   ]
  },
  {
   "cell_type": "code",
   "execution_count": 95,
   "metadata": {},
   "outputs": [
    {
     "data": {
      "text/plain": [
       "array(['Road', 'Ikoyi', 'Lekki', 'Ajah', 'Surulere', 'Island', 'Ikeja'],\n",
       "      dtype=object)"
      ]
     },
     "execution_count": 95,
     "metadata": {},
     "output_type": "execute_result"
    }
   ],
   "source": [
    "la3['Location'].unique()"
   ]
  },
  {
   "cell_type": "code",
   "execution_count": 96,
   "metadata": {},
   "outputs": [],
   "source": [
    "la3['Location'] = la3['Location'].apply(lambda x: 'Victoria Island' if x == 'Island' else x)"
   ]
  },
  {
   "cell_type": "code",
   "execution_count": 97,
   "metadata": {},
   "outputs": [
    {
     "data": {
      "text/plain": [
       "array(['Road', 'Ikoyi', 'Lekki', 'Ajah', 'Surulere', 'Victoria Island',\n",
       "       'Ikeja'], dtype=object)"
      ]
     },
     "execution_count": 97,
     "metadata": {},
     "output_type": "execute_result"
    }
   ],
   "source": [
    "la3['Location'].unique()"
   ]
  },
  {
   "cell_type": "code",
   "execution_count": 98,
   "metadata": {},
   "outputs": [
    {
     "data": {
      "text/plain": [
       "array([1.2e+01, 3.0e+00, 4.0e+00, 2.0e+00, 5.0e+00, 3.5e+06])"
      ]
     },
     "execution_count": 98,
     "metadata": {},
     "output_type": "execute_result"
    }
   ],
   "source": [
    "la3['Beds'].unique()"
   ]
  },
  {
   "cell_type": "code",
   "execution_count": 99,
   "metadata": {},
   "outputs": [],
   "source": [
    "la3['Beds']  = la3['Beds'].astype(int)"
   ]
  },
  {
   "cell_type": "code",
   "execution_count": 100,
   "metadata": {},
   "outputs": [
    {
     "data": {
      "text/plain": [
       "array([     12,       3,       4,       2,       5, 3500000])"
      ]
     },
     "execution_count": 100,
     "metadata": {},
     "output_type": "execute_result"
    }
   ],
   "source": [
    "la3['Beds'].unique()"
   ]
  },
  {
   "cell_type": "code",
   "execution_count": 101,
   "metadata": {},
   "outputs": [
    {
     "data": {
      "text/html": [
       "<div>\n",
       "<style scoped>\n",
       "    .dataframe tbody tr th:only-of-type {\n",
       "        vertical-align: middle;\n",
       "    }\n",
       "\n",
       "    .dataframe tbody tr th {\n",
       "        vertical-align: top;\n",
       "    }\n",
       "\n",
       "    .dataframe thead th {\n",
       "        text-align: right;\n",
       "    }\n",
       "</style>\n",
       "<table border=\"1\" class=\"dataframe\">\n",
       "  <thead>\n",
       "    <tr style=\"text-align: right;\">\n",
       "      <th></th>\n",
       "      <th>Price</th>\n",
       "      <th>Title</th>\n",
       "      <th>Location</th>\n",
       "      <th>Beds</th>\n",
       "      <th>Baths</th>\n",
       "    </tr>\n",
       "  </thead>\n",
       "  <tbody>\n",
       "    <tr>\n",
       "      <th>85</th>\n",
       "      <td>3500000</td>\n",
       "      <td>\\n3500000 Bedroom Duplex\\n</td>\n",
       "      <td>Lekki</td>\n",
       "      <td>3500000</td>\n",
       "      <td>4.0</td>\n",
       "    </tr>\n",
       "  </tbody>\n",
       "</table>\n",
       "</div>"
      ],
      "text/plain": [
       "      Price                       Title Location     Beds  Baths\n",
       "85  3500000  \\n3500000 Bedroom Duplex\\n    Lekki  3500000    4.0"
      ]
     },
     "execution_count": 101,
     "metadata": {},
     "output_type": "execute_result"
    }
   ],
   "source": [
    "la3[la3['Beds'] == 3500000]"
   ]
  },
  {
   "cell_type": "code",
   "execution_count": 103,
   "metadata": {},
   "outputs": [],
   "source": [
    "la3.loc[85, 'Beds'] = 3"
   ]
  },
  {
   "cell_type": "code",
   "execution_count": 104,
   "metadata": {
    "scrolled": true
   },
   "outputs": [
    {
     "data": {
      "text/plain": [
       "array([12,  3,  4,  2,  5])"
      ]
     },
     "execution_count": 104,
     "metadata": {},
     "output_type": "execute_result"
    }
   ],
   "source": [
    "la3['Beds'].unique()"
   ]
  },
  {
   "cell_type": "code",
   "execution_count": 106,
   "metadata": {},
   "outputs": [],
   "source": [
    "la3['Baths'] = la3['Baths'].astype(int)"
   ]
  },
  {
   "cell_type": "code",
   "execution_count": 107,
   "metadata": {
    "scrolled": true
   },
   "outputs": [
    {
     "data": {
      "text/plain": [
       "array([12,  2,  4,  3,  5,  6,  1,  8,  7])"
      ]
     },
     "execution_count": 107,
     "metadata": {},
     "output_type": "execute_result"
    }
   ],
   "source": [
    "la3['Baths'].unique()"
   ]
  },
  {
   "cell_type": "code",
   "execution_count": 111,
   "metadata": {},
   "outputs": [
    {
     "data": {
      "text/html": [
       "<div>\n",
       "<style scoped>\n",
       "    .dataframe tbody tr th:only-of-type {\n",
       "        vertical-align: middle;\n",
       "    }\n",
       "\n",
       "    .dataframe tbody tr th {\n",
       "        vertical-align: top;\n",
       "    }\n",
       "\n",
       "    .dataframe thead th {\n",
       "        text-align: right;\n",
       "    }\n",
       "</style>\n",
       "<table border=\"1\" class=\"dataframe\">\n",
       "  <thead>\n",
       "    <tr style=\"text-align: right;\">\n",
       "      <th></th>\n",
       "      <th>Price</th>\n",
       "      <th>Title</th>\n",
       "      <th>Location</th>\n",
       "      <th>Beds</th>\n",
       "      <th>Baths</th>\n",
       "    </tr>\n",
       "  </thead>\n",
       "  <tbody>\n",
       "    <tr>\n",
       "      <th>0</th>\n",
       "      <td>10800000000</td>\n",
       "      <td>\\n12 Bedroom Office\\n</td>\n",
       "      <td>Ikorodu</td>\n",
       "      <td>12</td>\n",
       "      <td>12</td>\n",
       "    </tr>\n",
       "    <tr>\n",
       "      <th>1</th>\n",
       "      <td>9000000</td>\n",
       "      <td>\\n3 Bedroom Flat &amp; Apartment\\n</td>\n",
       "      <td>Ikoyi</td>\n",
       "      <td>3</td>\n",
       "      <td>2</td>\n",
       "    </tr>\n",
       "    <tr>\n",
       "      <th>2</th>\n",
       "      <td>3500000</td>\n",
       "      <td>\\n4 Bedroom Duplex\\n</td>\n",
       "      <td>Lekki</td>\n",
       "      <td>4</td>\n",
       "      <td>4</td>\n",
       "    </tr>\n",
       "    <tr>\n",
       "      <th>3</th>\n",
       "      <td>3600000</td>\n",
       "      <td>\\n4 Bedroom Duplex\\n</td>\n",
       "      <td>Lekki</td>\n",
       "      <td>4</td>\n",
       "      <td>4</td>\n",
       "    </tr>\n",
       "    <tr>\n",
       "      <th>4</th>\n",
       "      <td>4500000</td>\n",
       "      <td>\\n4 Bedroom Duplex\\n</td>\n",
       "      <td>Lekki</td>\n",
       "      <td>4</td>\n",
       "      <td>4</td>\n",
       "    </tr>\n",
       "  </tbody>\n",
       "</table>\n",
       "</div>"
      ],
      "text/plain": [
       "         Price                           Title Location  Beds  Baths\n",
       "0  10800000000           \\n12 Bedroom Office\\n  Ikorodu    12     12\n",
       "1      9000000  \\n3 Bedroom Flat & Apartment\\n    Ikoyi     3      2\n",
       "2      3500000            \\n4 Bedroom Duplex\\n    Lekki     4      4\n",
       "3      3600000            \\n4 Bedroom Duplex\\n    Lekki     4      4\n",
       "4      4500000            \\n4 Bedroom Duplex\\n    Lekki     4      4"
      ]
     },
     "execution_count": 111,
     "metadata": {},
     "output_type": "execute_result"
    }
   ],
   "source": [
    "la3.head()"
   ]
  },
  {
   "cell_type": "code",
   "execution_count": 112,
   "metadata": {},
   "outputs": [],
   "source": [
    "la3['Toilets'] = la3['Baths']"
   ]
  },
  {
   "cell_type": "code",
   "execution_count": 113,
   "metadata": {},
   "outputs": [
    {
     "data": {
      "text/html": [
       "<div>\n",
       "<style scoped>\n",
       "    .dataframe tbody tr th:only-of-type {\n",
       "        vertical-align: middle;\n",
       "    }\n",
       "\n",
       "    .dataframe tbody tr th {\n",
       "        vertical-align: top;\n",
       "    }\n",
       "\n",
       "    .dataframe thead th {\n",
       "        text-align: right;\n",
       "    }\n",
       "</style>\n",
       "<table border=\"1\" class=\"dataframe\">\n",
       "  <thead>\n",
       "    <tr style=\"text-align: right;\">\n",
       "      <th></th>\n",
       "      <th>Price</th>\n",
       "      <th>Title</th>\n",
       "      <th>Location</th>\n",
       "      <th>Beds</th>\n",
       "      <th>Baths</th>\n",
       "      <th>Toilets</th>\n",
       "    </tr>\n",
       "  </thead>\n",
       "  <tbody>\n",
       "    <tr>\n",
       "      <th>0</th>\n",
       "      <td>10800000000</td>\n",
       "      <td>\\n12 Bedroom Office\\n</td>\n",
       "      <td>Ikorodu</td>\n",
       "      <td>12</td>\n",
       "      <td>12</td>\n",
       "      <td>12</td>\n",
       "    </tr>\n",
       "    <tr>\n",
       "      <th>1</th>\n",
       "      <td>9000000</td>\n",
       "      <td>\\n3 Bedroom Flat &amp; Apartment\\n</td>\n",
       "      <td>Ikoyi</td>\n",
       "      <td>3</td>\n",
       "      <td>2</td>\n",
       "      <td>2</td>\n",
       "    </tr>\n",
       "    <tr>\n",
       "      <th>2</th>\n",
       "      <td>3500000</td>\n",
       "      <td>\\n4 Bedroom Duplex\\n</td>\n",
       "      <td>Lekki</td>\n",
       "      <td>4</td>\n",
       "      <td>4</td>\n",
       "      <td>4</td>\n",
       "    </tr>\n",
       "    <tr>\n",
       "      <th>3</th>\n",
       "      <td>3600000</td>\n",
       "      <td>\\n4 Bedroom Duplex\\n</td>\n",
       "      <td>Lekki</td>\n",
       "      <td>4</td>\n",
       "      <td>4</td>\n",
       "      <td>4</td>\n",
       "    </tr>\n",
       "    <tr>\n",
       "      <th>4</th>\n",
       "      <td>4500000</td>\n",
       "      <td>\\n4 Bedroom Duplex\\n</td>\n",
       "      <td>Lekki</td>\n",
       "      <td>4</td>\n",
       "      <td>4</td>\n",
       "      <td>4</td>\n",
       "    </tr>\n",
       "  </tbody>\n",
       "</table>\n",
       "</div>"
      ],
      "text/plain": [
       "         Price                           Title Location  Beds  Baths  Toilets\n",
       "0  10800000000           \\n12 Bedroom Office\\n  Ikorodu    12     12       12\n",
       "1      9000000  \\n3 Bedroom Flat & Apartment\\n    Ikoyi     3      2        2\n",
       "2      3500000            \\n4 Bedroom Duplex\\n    Lekki     4      4        4\n",
       "3      3600000            \\n4 Bedroom Duplex\\n    Lekki     4      4        4\n",
       "4      4500000            \\n4 Bedroom Duplex\\n    Lekki     4      4        4"
      ]
     },
     "execution_count": 113,
     "metadata": {},
     "output_type": "execute_result"
    }
   ],
   "source": [
    "la3.head()"
   ]
  },
  {
   "cell_type": "code",
   "execution_count": 114,
   "metadata": {},
   "outputs": [],
   "source": [
    "column_list = ['Title', 'Price', 'Location', 'Beds', 'Baths', 'Toilets']\n",
    "la3 = la3.reindex(columns = column_list)"
   ]
  },
  {
   "cell_type": "code",
   "execution_count": 115,
   "metadata": {},
   "outputs": [
    {
     "data": {
      "text/html": [
       "<div>\n",
       "<style scoped>\n",
       "    .dataframe tbody tr th:only-of-type {\n",
       "        vertical-align: middle;\n",
       "    }\n",
       "\n",
       "    .dataframe tbody tr th {\n",
       "        vertical-align: top;\n",
       "    }\n",
       "\n",
       "    .dataframe thead th {\n",
       "        text-align: right;\n",
       "    }\n",
       "</style>\n",
       "<table border=\"1\" class=\"dataframe\">\n",
       "  <thead>\n",
       "    <tr style=\"text-align: right;\">\n",
       "      <th></th>\n",
       "      <th>Title</th>\n",
       "      <th>Price</th>\n",
       "      <th>Location</th>\n",
       "      <th>Beds</th>\n",
       "      <th>Baths</th>\n",
       "      <th>Toilets</th>\n",
       "    </tr>\n",
       "  </thead>\n",
       "  <tbody>\n",
       "    <tr>\n",
       "      <th>0</th>\n",
       "      <td>\\n12 Bedroom Office\\n</td>\n",
       "      <td>10800000000</td>\n",
       "      <td>Ikorodu</td>\n",
       "      <td>12</td>\n",
       "      <td>12</td>\n",
       "      <td>12</td>\n",
       "    </tr>\n",
       "    <tr>\n",
       "      <th>1</th>\n",
       "      <td>\\n3 Bedroom Flat &amp; Apartment\\n</td>\n",
       "      <td>9000000</td>\n",
       "      <td>Ikoyi</td>\n",
       "      <td>3</td>\n",
       "      <td>2</td>\n",
       "      <td>2</td>\n",
       "    </tr>\n",
       "    <tr>\n",
       "      <th>2</th>\n",
       "      <td>\\n4 Bedroom Duplex\\n</td>\n",
       "      <td>3500000</td>\n",
       "      <td>Lekki</td>\n",
       "      <td>4</td>\n",
       "      <td>4</td>\n",
       "      <td>4</td>\n",
       "    </tr>\n",
       "    <tr>\n",
       "      <th>3</th>\n",
       "      <td>\\n4 Bedroom Duplex\\n</td>\n",
       "      <td>3600000</td>\n",
       "      <td>Lekki</td>\n",
       "      <td>4</td>\n",
       "      <td>4</td>\n",
       "      <td>4</td>\n",
       "    </tr>\n",
       "    <tr>\n",
       "      <th>4</th>\n",
       "      <td>\\n4 Bedroom Duplex\\n</td>\n",
       "      <td>4500000</td>\n",
       "      <td>Lekki</td>\n",
       "      <td>4</td>\n",
       "      <td>4</td>\n",
       "      <td>4</td>\n",
       "    </tr>\n",
       "  </tbody>\n",
       "</table>\n",
       "</div>"
      ],
      "text/plain": [
       "                            Title        Price Location  Beds  Baths  Toilets\n",
       "0           \\n12 Bedroom Office\\n  10800000000  Ikorodu    12     12       12\n",
       "1  \\n3 Bedroom Flat & Apartment\\n      9000000    Ikoyi     3      2        2\n",
       "2            \\n4 Bedroom Duplex\\n      3500000    Lekki     4      4        4\n",
       "3            \\n4 Bedroom Duplex\\n      3600000    Lekki     4      4        4\n",
       "4            \\n4 Bedroom Duplex\\n      4500000    Lekki     4      4        4"
      ]
     },
     "execution_count": 115,
     "metadata": {},
     "output_type": "execute_result"
    }
   ],
   "source": [
    "la3.head()"
   ]
  },
  {
   "cell_type": "code",
   "execution_count": 116,
   "metadata": {},
   "outputs": [],
   "source": [
    "la3.to_csv('la3.csv', index = False)"
   ]
  }
 ],
 "metadata": {
  "kernelspec": {
   "display_name": "Python 3",
   "language": "python",
   "name": "python3"
  },
  "language_info": {
   "codemirror_mode": {
    "name": "ipython",
    "version": 3
   },
   "file_extension": ".py",
   "mimetype": "text/x-python",
   "name": "python",
   "nbconvert_exporter": "python",
   "pygments_lexer": "ipython3",
   "version": "3.7.6"
  }
 },
 "nbformat": 4,
 "nbformat_minor": 4
}
